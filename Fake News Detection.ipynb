{
  "nbformat": 4,
  "nbformat_minor": 0,
  "metadata": {
    "colab": {
      "provenance": []
    },
    "kernelspec": {
      "name": "python3",
      "display_name": "Python 3"
    },
    "language_info": {
      "name": "python"
    }
  },
  "cells": [
    {
      "cell_type": "code",
      "execution_count": 18,
      "metadata": {
        "colab": {
          "base_uri": "https://localhost:8080/"
        },
        "id": "HvDPzhgwCZ8U",
        "outputId": "73dc44b4-4bda-48d8-f3c0-82249b81a506"
      },
      "outputs": [
        {
          "output_type": "stream",
          "name": "stdout",
          "text": [
            "Requirement already satisfied: kaggle in /usr/local/lib/python3.10/dist-packages (1.5.16)\n",
            "Collecting neattext\n",
            "  Downloading neattext-0.1.3-py3-none-any.whl (114 kB)\n",
            "\u001b[2K     \u001b[90m━━━━━━━━━━━━━━━━━━━━━━━━━━━━━━━━━━━━━━━━\u001b[0m \u001b[32m114.7/114.7 kB\u001b[0m \u001b[31m2.9 MB/s\u001b[0m eta \u001b[36m0:00:00\u001b[0m\n",
            "\u001b[?25hRequirement already satisfied: six>=1.10 in /usr/local/lib/python3.10/dist-packages (from kaggle) (1.16.0)\n",
            "Requirement already satisfied: certifi in /usr/local/lib/python3.10/dist-packages (from kaggle) (2024.2.2)\n",
            "Requirement already satisfied: python-dateutil in /usr/local/lib/python3.10/dist-packages (from kaggle) (2.8.2)\n",
            "Requirement already satisfied: requests in /usr/local/lib/python3.10/dist-packages (from kaggle) (2.31.0)\n",
            "Requirement already satisfied: tqdm in /usr/local/lib/python3.10/dist-packages (from kaggle) (4.66.2)\n",
            "Requirement already satisfied: python-slugify in /usr/local/lib/python3.10/dist-packages (from kaggle) (8.0.4)\n",
            "Requirement already satisfied: urllib3 in /usr/local/lib/python3.10/dist-packages (from kaggle) (2.0.7)\n",
            "Requirement already satisfied: bleach in /usr/local/lib/python3.10/dist-packages (from kaggle) (6.1.0)\n",
            "Requirement already satisfied: webencodings in /usr/local/lib/python3.10/dist-packages (from bleach->kaggle) (0.5.1)\n",
            "Requirement already satisfied: text-unidecode>=1.3 in /usr/local/lib/python3.10/dist-packages (from python-slugify->kaggle) (1.3)\n",
            "Requirement already satisfied: charset-normalizer<4,>=2 in /usr/local/lib/python3.10/dist-packages (from requests->kaggle) (3.3.2)\n",
            "Requirement already satisfied: idna<4,>=2.5 in /usr/local/lib/python3.10/dist-packages (from requests->kaggle) (3.6)\n",
            "Installing collected packages: neattext\n",
            "Successfully installed neattext-0.1.3\n"
          ]
        }
      ],
      "source": [
        "!pip install kaggle neattext"
      ]
    },
    {
      "cell_type": "code",
      "source": [
        "!pip install scikit-learn==1.4.1.post1 tensorflow==2.16.0rc0"
      ],
      "metadata": {
        "colab": {
          "base_uri": "https://localhost:8080/"
        },
        "id": "j4yDMoBTCd0n",
        "outputId": "4f7bcb5d-6c0d-47e4-b051-e72ed26557ca"
      },
      "execution_count": 2,
      "outputs": [
        {
          "output_type": "stream",
          "name": "stdout",
          "text": [
            "Collecting scikit-learn==1.4.1.post1\n",
            "  Downloading scikit_learn-1.4.1.post1-cp310-cp310-manylinux_2_17_x86_64.manylinux2014_x86_64.whl (12.1 MB)\n",
            "\u001b[2K     \u001b[90m━━━━━━━━━━━━━━━━━━━━━━━━━━━━━━━━━━━━━━━━\u001b[0m \u001b[32m12.1/12.1 MB\u001b[0m \u001b[31m60.9 MB/s\u001b[0m eta \u001b[36m0:00:00\u001b[0m\n",
            "\u001b[?25hCollecting tensorflow==2.16.0rc0\n",
            "  Downloading tensorflow-2.16.0rc0-cp310-cp310-manylinux_2_17_x86_64.manylinux2014_x86_64.whl (589.8 MB)\n",
            "\u001b[2K     \u001b[90m━━━━━━━━━━━━━━━━━━━━━━━━━━━━━━━━━━━━━━━━\u001b[0m \u001b[32m589.8/589.8 MB\u001b[0m \u001b[31m1.9 MB/s\u001b[0m eta \u001b[36m0:00:00\u001b[0m\n",
            "\u001b[?25hRequirement already satisfied: numpy<2.0,>=1.19.5 in /usr/local/lib/python3.10/dist-packages (from scikit-learn==1.4.1.post1) (1.25.2)\n",
            "Requirement already satisfied: scipy>=1.6.0 in /usr/local/lib/python3.10/dist-packages (from scikit-learn==1.4.1.post1) (1.11.4)\n",
            "Requirement already satisfied: joblib>=1.2.0 in /usr/local/lib/python3.10/dist-packages (from scikit-learn==1.4.1.post1) (1.3.2)\n",
            "Requirement already satisfied: threadpoolctl>=2.0.0 in /usr/local/lib/python3.10/dist-packages (from scikit-learn==1.4.1.post1) (3.3.0)\n",
            "Requirement already satisfied: absl-py>=1.0.0 in /usr/local/lib/python3.10/dist-packages (from tensorflow==2.16.0rc0) (1.4.0)\n",
            "Requirement already satisfied: astunparse>=1.6.0 in /usr/local/lib/python3.10/dist-packages (from tensorflow==2.16.0rc0) (1.6.3)\n",
            "Requirement already satisfied: flatbuffers>=23.5.26 in /usr/local/lib/python3.10/dist-packages (from tensorflow==2.16.0rc0) (23.5.26)\n",
            "Requirement already satisfied: gast!=0.5.0,!=0.5.1,!=0.5.2,>=0.2.1 in /usr/local/lib/python3.10/dist-packages (from tensorflow==2.16.0rc0) (0.5.4)\n",
            "Requirement already satisfied: google-pasta>=0.1.1 in /usr/local/lib/python3.10/dist-packages (from tensorflow==2.16.0rc0) (0.2.0)\n",
            "Collecting h5py>=3.10.0 (from tensorflow==2.16.0rc0)\n",
            "  Downloading h5py-3.10.0-cp310-cp310-manylinux_2_17_x86_64.manylinux2014_x86_64.whl (4.8 MB)\n",
            "\u001b[2K     \u001b[90m━━━━━━━━━━━━━━━━━━━━━━━━━━━━━━━━━━━━━━━━\u001b[0m \u001b[32m4.8/4.8 MB\u001b[0m \u001b[31m57.9 MB/s\u001b[0m eta \u001b[36m0:00:00\u001b[0m\n",
            "\u001b[?25hRequirement already satisfied: libclang>=13.0.0 in /usr/local/lib/python3.10/dist-packages (from tensorflow==2.16.0rc0) (16.0.6)\n",
            "Collecting ml-dtypes~=0.3.1 (from tensorflow==2.16.0rc0)\n",
            "  Downloading ml_dtypes-0.3.2-cp310-cp310-manylinux_2_17_x86_64.manylinux2014_x86_64.whl (2.2 MB)\n",
            "\u001b[2K     \u001b[90m━━━━━━━━━━━━━━━━━━━━━━━━━━━━━━━━━━━━━━━━\u001b[0m \u001b[32m2.2/2.2 MB\u001b[0m \u001b[31m68.9 MB/s\u001b[0m eta \u001b[36m0:00:00\u001b[0m\n",
            "\u001b[?25hRequirement already satisfied: opt-einsum>=2.3.2 in /usr/local/lib/python3.10/dist-packages (from tensorflow==2.16.0rc0) (3.3.0)\n",
            "Requirement already satisfied: packaging in /usr/local/lib/python3.10/dist-packages (from tensorflow==2.16.0rc0) (23.2)\n",
            "Requirement already satisfied: protobuf!=4.21.0,!=4.21.1,!=4.21.2,!=4.21.3,!=4.21.4,!=4.21.5,<5.0.0dev,>=3.20.3 in /usr/local/lib/python3.10/dist-packages (from tensorflow==2.16.0rc0) (3.20.3)\n",
            "Requirement already satisfied: requests<3,>=2.21.0 in /usr/local/lib/python3.10/dist-packages (from tensorflow==2.16.0rc0) (2.31.0)\n",
            "Requirement already satisfied: setuptools in /usr/local/lib/python3.10/dist-packages (from tensorflow==2.16.0rc0) (67.7.2)\n",
            "Requirement already satisfied: six>=1.12.0 in /usr/local/lib/python3.10/dist-packages (from tensorflow==2.16.0rc0) (1.16.0)\n",
            "Requirement already satisfied: termcolor>=1.1.0 in /usr/local/lib/python3.10/dist-packages (from tensorflow==2.16.0rc0) (2.4.0)\n",
            "Requirement already satisfied: typing-extensions>=3.6.6 in /usr/local/lib/python3.10/dist-packages (from tensorflow==2.16.0rc0) (4.10.0)\n",
            "Requirement already satisfied: wrapt>=1.11.0 in /usr/local/lib/python3.10/dist-packages (from tensorflow==2.16.0rc0) (1.14.1)\n",
            "Requirement already satisfied: grpcio<2.0,>=1.24.3 in /usr/local/lib/python3.10/dist-packages (from tensorflow==2.16.0rc0) (1.62.0)\n",
            "Collecting tensorboard<2.17,>=2.16 (from tensorflow==2.16.0rc0)\n",
            "  Downloading tensorboard-2.16.2-py3-none-any.whl (5.5 MB)\n",
            "\u001b[2K     \u001b[90m━━━━━━━━━━━━━━━━━━━━━━━━━━━━━━━━━━━━━━━━\u001b[0m \u001b[32m5.5/5.5 MB\u001b[0m \u001b[31m95.5 MB/s\u001b[0m eta \u001b[36m0:00:00\u001b[0m\n",
            "\u001b[?25hCollecting keras>=3.0.0 (from tensorflow==2.16.0rc0)\n",
            "  Downloading keras-3.0.5-py3-none-any.whl (1.0 MB)\n",
            "\u001b[2K     \u001b[90m━━━━━━━━━━━━━━━━━━━━━━━━━━━━━━━━━━━━━━━━\u001b[0m \u001b[32m1.0/1.0 MB\u001b[0m \u001b[31m29.8 MB/s\u001b[0m eta \u001b[36m0:00:00\u001b[0m\n",
            "\u001b[?25hRequirement already satisfied: tensorflow-io-gcs-filesystem>=0.23.1 in /usr/local/lib/python3.10/dist-packages (from tensorflow==2.16.0rc0) (0.36.0)\n",
            "Requirement already satisfied: wheel<1.0,>=0.23.0 in /usr/local/lib/python3.10/dist-packages (from astunparse>=1.6.0->tensorflow==2.16.0rc0) (0.42.0)\n",
            "Requirement already satisfied: rich in /usr/local/lib/python3.10/dist-packages (from keras>=3.0.0->tensorflow==2.16.0rc0) (13.7.1)\n",
            "Collecting namex (from keras>=3.0.0->tensorflow==2.16.0rc0)\n",
            "  Downloading namex-0.0.7-py3-none-any.whl (5.8 kB)\n",
            "Requirement already satisfied: dm-tree in /usr/local/lib/python3.10/dist-packages (from keras>=3.0.0->tensorflow==2.16.0rc0) (0.1.8)\n",
            "Requirement already satisfied: charset-normalizer<4,>=2 in /usr/local/lib/python3.10/dist-packages (from requests<3,>=2.21.0->tensorflow==2.16.0rc0) (3.3.2)\n",
            "Requirement already satisfied: idna<4,>=2.5 in /usr/local/lib/python3.10/dist-packages (from requests<3,>=2.21.0->tensorflow==2.16.0rc0) (3.6)\n",
            "Requirement already satisfied: urllib3<3,>=1.21.1 in /usr/local/lib/python3.10/dist-packages (from requests<3,>=2.21.0->tensorflow==2.16.0rc0) (2.0.7)\n",
            "Requirement already satisfied: certifi>=2017.4.17 in /usr/local/lib/python3.10/dist-packages (from requests<3,>=2.21.0->tensorflow==2.16.0rc0) (2024.2.2)\n",
            "Requirement already satisfied: markdown>=2.6.8 in /usr/local/lib/python3.10/dist-packages (from tensorboard<2.17,>=2.16->tensorflow==2.16.0rc0) (3.5.2)\n",
            "Requirement already satisfied: tensorboard-data-server<0.8.0,>=0.7.0 in /usr/local/lib/python3.10/dist-packages (from tensorboard<2.17,>=2.16->tensorflow==2.16.0rc0) (0.7.2)\n",
            "Requirement already satisfied: werkzeug>=1.0.1 in /usr/local/lib/python3.10/dist-packages (from tensorboard<2.17,>=2.16->tensorflow==2.16.0rc0) (3.0.1)\n",
            "Requirement already satisfied: MarkupSafe>=2.1.1 in /usr/local/lib/python3.10/dist-packages (from werkzeug>=1.0.1->tensorboard<2.17,>=2.16->tensorflow==2.16.0rc0) (2.1.5)\n",
            "Requirement already satisfied: markdown-it-py>=2.2.0 in /usr/local/lib/python3.10/dist-packages (from rich->keras>=3.0.0->tensorflow==2.16.0rc0) (3.0.0)\n",
            "Requirement already satisfied: pygments<3.0.0,>=2.13.0 in /usr/local/lib/python3.10/dist-packages (from rich->keras>=3.0.0->tensorflow==2.16.0rc0) (2.16.1)\n",
            "Requirement already satisfied: mdurl~=0.1 in /usr/local/lib/python3.10/dist-packages (from markdown-it-py>=2.2.0->rich->keras>=3.0.0->tensorflow==2.16.0rc0) (0.1.2)\n",
            "Installing collected packages: namex, ml-dtypes, h5py, tensorboard, scikit-learn, keras, tensorflow\n",
            "  Attempting uninstall: ml-dtypes\n",
            "    Found existing installation: ml-dtypes 0.2.0\n",
            "    Uninstalling ml-dtypes-0.2.0:\n",
            "      Successfully uninstalled ml-dtypes-0.2.0\n",
            "  Attempting uninstall: h5py\n",
            "    Found existing installation: h5py 3.9.0\n",
            "    Uninstalling h5py-3.9.0:\n",
            "      Successfully uninstalled h5py-3.9.0\n",
            "  Attempting uninstall: tensorboard\n",
            "    Found existing installation: tensorboard 2.15.2\n",
            "    Uninstalling tensorboard-2.15.2:\n",
            "      Successfully uninstalled tensorboard-2.15.2\n",
            "  Attempting uninstall: scikit-learn\n",
            "    Found existing installation: scikit-learn 1.2.2\n",
            "    Uninstalling scikit-learn-1.2.2:\n",
            "      Successfully uninstalled scikit-learn-1.2.2\n",
            "  Attempting uninstall: keras\n",
            "    Found existing installation: keras 2.15.0\n",
            "    Uninstalling keras-2.15.0:\n",
            "      Successfully uninstalled keras-2.15.0\n",
            "  Attempting uninstall: tensorflow\n",
            "    Found existing installation: tensorflow 2.15.0\n",
            "    Uninstalling tensorflow-2.15.0:\n",
            "      Successfully uninstalled tensorflow-2.15.0\n",
            "Successfully installed h5py-3.10.0 keras-3.0.5 ml-dtypes-0.3.2 namex-0.0.7 scikit-learn-1.4.1.post1 tensorboard-2.16.2 tensorflow-2.16.0rc0\n"
          ]
        }
      ]
    },
    {
      "cell_type": "code",
      "source": [
        "from google.colab import files\n",
        "upload = files.upload()"
      ],
      "metadata": {
        "colab": {
          "base_uri": "https://localhost:8080/",
          "height": 73
        },
        "id": "vsDwGPwrCgQU",
        "outputId": "6d3b118e-6ecb-44c9-94fe-a3d0a7ea1775"
      },
      "execution_count": 3,
      "outputs": [
        {
          "output_type": "display_data",
          "data": {
            "text/plain": [
              "<IPython.core.display.HTML object>"
            ],
            "text/html": [
              "\n",
              "     <input type=\"file\" id=\"files-f7c121c7-2cf2-4812-9a18-f9d1259891cd\" name=\"files[]\" multiple disabled\n",
              "        style=\"border:none\" />\n",
              "     <output id=\"result-f7c121c7-2cf2-4812-9a18-f9d1259891cd\">\n",
              "      Upload widget is only available when the cell has been executed in the\n",
              "      current browser session. Please rerun this cell to enable.\n",
              "      </output>\n",
              "      <script>// Copyright 2017 Google LLC\n",
              "//\n",
              "// Licensed under the Apache License, Version 2.0 (the \"License\");\n",
              "// you may not use this file except in compliance with the License.\n",
              "// You may obtain a copy of the License at\n",
              "//\n",
              "//      http://www.apache.org/licenses/LICENSE-2.0\n",
              "//\n",
              "// Unless required by applicable law or agreed to in writing, software\n",
              "// distributed under the License is distributed on an \"AS IS\" BASIS,\n",
              "// WITHOUT WARRANTIES OR CONDITIONS OF ANY KIND, either express or implied.\n",
              "// See the License for the specific language governing permissions and\n",
              "// limitations under the License.\n",
              "\n",
              "/**\n",
              " * @fileoverview Helpers for google.colab Python module.\n",
              " */\n",
              "(function(scope) {\n",
              "function span(text, styleAttributes = {}) {\n",
              "  const element = document.createElement('span');\n",
              "  element.textContent = text;\n",
              "  for (const key of Object.keys(styleAttributes)) {\n",
              "    element.style[key] = styleAttributes[key];\n",
              "  }\n",
              "  return element;\n",
              "}\n",
              "\n",
              "// Max number of bytes which will be uploaded at a time.\n",
              "const MAX_PAYLOAD_SIZE = 100 * 1024;\n",
              "\n",
              "function _uploadFiles(inputId, outputId) {\n",
              "  const steps = uploadFilesStep(inputId, outputId);\n",
              "  const outputElement = document.getElementById(outputId);\n",
              "  // Cache steps on the outputElement to make it available for the next call\n",
              "  // to uploadFilesContinue from Python.\n",
              "  outputElement.steps = steps;\n",
              "\n",
              "  return _uploadFilesContinue(outputId);\n",
              "}\n",
              "\n",
              "// This is roughly an async generator (not supported in the browser yet),\n",
              "// where there are multiple asynchronous steps and the Python side is going\n",
              "// to poll for completion of each step.\n",
              "// This uses a Promise to block the python side on completion of each step,\n",
              "// then passes the result of the previous step as the input to the next step.\n",
              "function _uploadFilesContinue(outputId) {\n",
              "  const outputElement = document.getElementById(outputId);\n",
              "  const steps = outputElement.steps;\n",
              "\n",
              "  const next = steps.next(outputElement.lastPromiseValue);\n",
              "  return Promise.resolve(next.value.promise).then((value) => {\n",
              "    // Cache the last promise value to make it available to the next\n",
              "    // step of the generator.\n",
              "    outputElement.lastPromiseValue = value;\n",
              "    return next.value.response;\n",
              "  });\n",
              "}\n",
              "\n",
              "/**\n",
              " * Generator function which is called between each async step of the upload\n",
              " * process.\n",
              " * @param {string} inputId Element ID of the input file picker element.\n",
              " * @param {string} outputId Element ID of the output display.\n",
              " * @return {!Iterable<!Object>} Iterable of next steps.\n",
              " */\n",
              "function* uploadFilesStep(inputId, outputId) {\n",
              "  const inputElement = document.getElementById(inputId);\n",
              "  inputElement.disabled = false;\n",
              "\n",
              "  const outputElement = document.getElementById(outputId);\n",
              "  outputElement.innerHTML = '';\n",
              "\n",
              "  const pickedPromise = new Promise((resolve) => {\n",
              "    inputElement.addEventListener('change', (e) => {\n",
              "      resolve(e.target.files);\n",
              "    });\n",
              "  });\n",
              "\n",
              "  const cancel = document.createElement('button');\n",
              "  inputElement.parentElement.appendChild(cancel);\n",
              "  cancel.textContent = 'Cancel upload';\n",
              "  const cancelPromise = new Promise((resolve) => {\n",
              "    cancel.onclick = () => {\n",
              "      resolve(null);\n",
              "    };\n",
              "  });\n",
              "\n",
              "  // Wait for the user to pick the files.\n",
              "  const files = yield {\n",
              "    promise: Promise.race([pickedPromise, cancelPromise]),\n",
              "    response: {\n",
              "      action: 'starting',\n",
              "    }\n",
              "  };\n",
              "\n",
              "  cancel.remove();\n",
              "\n",
              "  // Disable the input element since further picks are not allowed.\n",
              "  inputElement.disabled = true;\n",
              "\n",
              "  if (!files) {\n",
              "    return {\n",
              "      response: {\n",
              "        action: 'complete',\n",
              "      }\n",
              "    };\n",
              "  }\n",
              "\n",
              "  for (const file of files) {\n",
              "    const li = document.createElement('li');\n",
              "    li.append(span(file.name, {fontWeight: 'bold'}));\n",
              "    li.append(span(\n",
              "        `(${file.type || 'n/a'}) - ${file.size} bytes, ` +\n",
              "        `last modified: ${\n",
              "            file.lastModifiedDate ? file.lastModifiedDate.toLocaleDateString() :\n",
              "                                    'n/a'} - `));\n",
              "    const percent = span('0% done');\n",
              "    li.appendChild(percent);\n",
              "\n",
              "    outputElement.appendChild(li);\n",
              "\n",
              "    const fileDataPromise = new Promise((resolve) => {\n",
              "      const reader = new FileReader();\n",
              "      reader.onload = (e) => {\n",
              "        resolve(e.target.result);\n",
              "      };\n",
              "      reader.readAsArrayBuffer(file);\n",
              "    });\n",
              "    // Wait for the data to be ready.\n",
              "    let fileData = yield {\n",
              "      promise: fileDataPromise,\n",
              "      response: {\n",
              "        action: 'continue',\n",
              "      }\n",
              "    };\n",
              "\n",
              "    // Use a chunked sending to avoid message size limits. See b/62115660.\n",
              "    let position = 0;\n",
              "    do {\n",
              "      const length = Math.min(fileData.byteLength - position, MAX_PAYLOAD_SIZE);\n",
              "      const chunk = new Uint8Array(fileData, position, length);\n",
              "      position += length;\n",
              "\n",
              "      const base64 = btoa(String.fromCharCode.apply(null, chunk));\n",
              "      yield {\n",
              "        response: {\n",
              "          action: 'append',\n",
              "          file: file.name,\n",
              "          data: base64,\n",
              "        },\n",
              "      };\n",
              "\n",
              "      let percentDone = fileData.byteLength === 0 ?\n",
              "          100 :\n",
              "          Math.round((position / fileData.byteLength) * 100);\n",
              "      percent.textContent = `${percentDone}% done`;\n",
              "\n",
              "    } while (position < fileData.byteLength);\n",
              "  }\n",
              "\n",
              "  // All done.\n",
              "  yield {\n",
              "    response: {\n",
              "      action: 'complete',\n",
              "    }\n",
              "  };\n",
              "}\n",
              "\n",
              "scope.google = scope.google || {};\n",
              "scope.google.colab = scope.google.colab || {};\n",
              "scope.google.colab._files = {\n",
              "  _uploadFiles,\n",
              "  _uploadFilesContinue,\n",
              "};\n",
              "})(self);\n",
              "</script> "
            ]
          },
          "metadata": {}
        },
        {
          "output_type": "stream",
          "name": "stdout",
          "text": [
            "Saving kaggle.json to kaggle.json\n"
          ]
        }
      ]
    },
    {
      "cell_type": "code",
      "source": [
        "!mkdir ~/.kaggle"
      ],
      "metadata": {
        "id": "3igQlpCOCkU-"
      },
      "execution_count": 4,
      "outputs": []
    },
    {
      "cell_type": "code",
      "source": [
        "!mv kaggle.json ~/.kaggle/"
      ],
      "metadata": {
        "id": "7LepFmroCmjL"
      },
      "execution_count": 5,
      "outputs": []
    },
    {
      "cell_type": "code",
      "source": [
        "!chmod 600 ~/.kaggle/kaggle.json"
      ],
      "metadata": {
        "id": "O7PzBcC5Co7p"
      },
      "execution_count": 6,
      "outputs": []
    },
    {
      "cell_type": "code",
      "source": [
        "!kaggle datasets list"
      ],
      "metadata": {
        "colab": {
          "base_uri": "https://localhost:8080/"
        },
        "id": "AweFjdYTCraG",
        "outputId": "976a1083-6ae1-4dd4-a29e-e873b46ada06"
      },
      "execution_count": 7,
      "outputs": [
        {
          "output_type": "stream",
          "name": "stdout",
          "text": [
            "Warning: Looks like you're using an outdated API Version, please consider updating (server 1.6.7 / client 1.5.16)\n",
            "ref                                                     title                                          size  lastUpdated          downloadCount  voteCount  usabilityRating  \n",
            "------------------------------------------------------  --------------------------------------------  -----  -------------------  -------------  ---------  ---------------  \n",
            "syedanwarafridi/vehicle-sales-data                      Vehicle Sales Data                             19MB  2024-02-21 20:16:17           7599        128  1.0              \n",
            "tarunrm09/climate-change-indicators                     Climate change Indicators                      34KB  2024-02-22 08:53:54           3769         92  1.0              \n",
            "l3llff/banana                                           🍌 | Banana Quality                            271KB  2024-03-03 12:20:13            842         27  1.0              \n",
            "mikhail1681/walmart-sales                               Walmart Sales                                 122KB  2024-02-13 17:35:56           5868         87  1.0              \n",
            "nbroad/gemma-rewrite-nbroad                             gemma-rewrite-nbroad                            8MB  2024-03-03 04:52:39            317         45  1.0              \n",
            "nelgiriyewithana/apple-quality                          Apple Quality                                 170KB  2024-01-11 14:31:07          25933        545  1.0              \n",
            "kanchana1990/spotifys-long-hits-2014-2024               Spotify's Long Hits (2014-2024) 🎶              38KB  2024-02-23 12:39:02           2388         64  1.0              \n",
            "nelgiriyewithana/emotions                               Emotions                                       16MB  2024-02-05 16:01:39           5563        156  1.0              \n",
            "willianoliveiragibin/terrorism-in-world                 Terrorism_in_world                             35KB  2024-02-27 20:00:52            575         23  1.0              \n",
            "xontoloyo/data-penjualan-zara                           ZARA Sales                                     17KB  2024-02-27 05:37:53           1824         38  0.9411765        \n",
            "suntzunami/personal-exercise-and-health-data            Personal Exercise and Health Data              957B  2024-02-27 06:25:08            548         23  1.0              \n",
            "raphaelmanayon/temperature-and-ice-cream-sales          Temperature and Ice Cream Sales                 1KB  2024-02-19 18:53:52           2314         35  0.9411765        \n",
            "dansbecker/melbourne-housing-snapshot                   Melbourne Housing Snapshot                    451KB  2018-06-05 12:52:24         140635       1442  0.7058824        \n",
            "harshitstark/covid-19-global-statistics-dataset         COVID-19 Global Statistics Dataset             10KB  2024-02-21 19:05:14           2271         46  1.0              \n",
            "devi5723/e-commerce-cosmetics-dataset                   E-commerce Cosmetic Products                    1MB  2024-02-28 14:46:12            985         32  0.9411765        \n",
            "sazidthe1/world-gdp-growth                              World GDP Growth                               14KB  2024-02-25 11:37:58           1260         24  1.0              \n",
            "iabhishekofficial/mobile-price-classification           Mobile Price Classification                    71KB  2018-01-28 08:44:24         168772       1904  0.7058824        \n",
            "imyjoshua/average-time-spent-by-a-user-on-social-media  Average Time Spent By A User On Social Media   11KB  2024-01-18 10:18:03           7647         83  1.0              \n",
            "datasnaek/youtube-new                                   Trending YouTube Video Statistics             201MB  2019-06-03 00:56:47         234218       5343  0.7941176        \n",
            "zynicide/wine-reviews                                   Wine Reviews                                   51MB  2017-11-27 17:08:04         273266       3577  0.7941176        \n"
          ]
        }
      ]
    },
    {
      "cell_type": "code",
      "source": [
        "!kaggle datasets download -d ruchi798/source-based-news-classification"
      ],
      "metadata": {
        "colab": {
          "base_uri": "https://localhost:8080/"
        },
        "id": "ciF25H5wCs2J",
        "outputId": "552355b4-2963-4278-9ada-15700a703956"
      },
      "execution_count": 10,
      "outputs": [
        {
          "output_type": "stream",
          "name": "stdout",
          "text": [
            "Downloading source-based-news-classification.zip to /content\n",
            "\r  0% 0.00/2.97M [00:00<?, ?B/s]\n",
            "\r100% 2.97M/2.97M [00:00<00:00, 142MB/s]\n"
          ]
        }
      ]
    },
    {
      "cell_type": "code",
      "source": [
        "!unzip source-based-news-classification.zip"
      ],
      "metadata": {
        "colab": {
          "base_uri": "https://localhost:8080/"
        },
        "id": "dQJ7CsTjCvm3",
        "outputId": "90b2e2cf-cc3d-4f8d-cc05-7cd8dd819b68"
      },
      "execution_count": 11,
      "outputs": [
        {
          "output_type": "stream",
          "name": "stdout",
          "text": [
            "Archive:  source-based-news-classification.zip\n",
            "  inflating: news_articles.csv       \n"
          ]
        }
      ]
    },
    {
      "cell_type": "code",
      "source": [
        "import numpy as np\n",
        "import pandas as pd\n",
        "import neattext.functions as nfx\n",
        "\n",
        "\n",
        "%matplotlib inline\n",
        "import matplotlib.pyplot as plt\n",
        "import seaborn as sns\n",
        "\n",
        "from sklearn.preprocessing import LabelBinarizer, LabelEncoder\n",
        "from sklearn.metrics import classification_report, confusion_matrix\n",
        "\n",
        "from tensorflow import keras\n",
        "from keras.models import Sequential, load_model\n",
        "from tensorflow.keras.preprocessing.text import Tokenizer\n",
        "from keras.preprocessing.sequence import pad_sequences\n",
        "from keras.layers import Embedding, Flatten, Dropout, Dense\n",
        "from keras.utils import to_categorical\n",
        "from keras.losses import binary_crossentropy"
      ],
      "metadata": {
        "id": "YE37YgKlCy7p"
      },
      "execution_count": 42,
      "outputs": []
    },
    {
      "cell_type": "code",
      "source": [
        "df = pd.read_csv('news_articles.csv')"
      ],
      "metadata": {
        "id": "HudKgdkFDb_Q"
      },
      "execution_count": 16,
      "outputs": []
    },
    {
      "cell_type": "code",
      "source": [
        "df.head()"
      ],
      "metadata": {
        "colab": {
          "base_uri": "https://localhost:8080/",
          "height": 660
        },
        "id": "0THtqxctDlpQ",
        "outputId": "de1c07b5-de73-4295-a53a-bf73f12d695d"
      },
      "execution_count": 17,
      "outputs": [
        {
          "output_type": "execute_result",
          "data": {
            "text/plain": [
              "                 author  ... hasImage\n",
              "0     Barracuda Brigade  ...      1.0\n",
              "1  reasoning with facts  ...      1.0\n",
              "2     Barracuda Brigade  ...      1.0\n",
              "3                Fed Up  ...      1.0\n",
              "4                Fed Up  ...      1.0\n",
              "\n",
              "[5 rows x 12 columns]"
            ],
            "text/html": [
              "\n",
              "  <div id=\"df-b075f100-64bf-4ce6-9f22-f5f708b4c5c8\" class=\"colab-df-container\">\n",
              "    <div>\n",
              "<style scoped>\n",
              "    .dataframe tbody tr th:only-of-type {\n",
              "        vertical-align: middle;\n",
              "    }\n",
              "\n",
              "    .dataframe tbody tr th {\n",
              "        vertical-align: top;\n",
              "    }\n",
              "\n",
              "    .dataframe thead th {\n",
              "        text-align: right;\n",
              "    }\n",
              "</style>\n",
              "<table border=\"1\" class=\"dataframe\">\n",
              "  <thead>\n",
              "    <tr style=\"text-align: right;\">\n",
              "      <th></th>\n",
              "      <th>author</th>\n",
              "      <th>published</th>\n",
              "      <th>title</th>\n",
              "      <th>text</th>\n",
              "      <th>language</th>\n",
              "      <th>site_url</th>\n",
              "      <th>main_img_url</th>\n",
              "      <th>type</th>\n",
              "      <th>label</th>\n",
              "      <th>title_without_stopwords</th>\n",
              "      <th>text_without_stopwords</th>\n",
              "      <th>hasImage</th>\n",
              "    </tr>\n",
              "  </thead>\n",
              "  <tbody>\n",
              "    <tr>\n",
              "      <th>0</th>\n",
              "      <td>Barracuda Brigade</td>\n",
              "      <td>2016-10-26T21:41:00.000+03:00</td>\n",
              "      <td>muslims busted they stole millions in govt ben...</td>\n",
              "      <td>print they should pay all the back all the mon...</td>\n",
              "      <td>english</td>\n",
              "      <td>100percentfedup.com</td>\n",
              "      <td>http://bb4sp.com/wp-content/uploads/2016/10/Fu...</td>\n",
              "      <td>bias</td>\n",
              "      <td>Real</td>\n",
              "      <td>muslims busted stole millions govt benefits</td>\n",
              "      <td>print pay back money plus interest entire fami...</td>\n",
              "      <td>1.0</td>\n",
              "    </tr>\n",
              "    <tr>\n",
              "      <th>1</th>\n",
              "      <td>reasoning with facts</td>\n",
              "      <td>2016-10-29T08:47:11.259+03:00</td>\n",
              "      <td>re why did attorney general loretta lynch plea...</td>\n",
              "      <td>why did attorney general loretta lynch plead t...</td>\n",
              "      <td>english</td>\n",
              "      <td>100percentfedup.com</td>\n",
              "      <td>http://bb4sp.com/wp-content/uploads/2016/10/Fu...</td>\n",
              "      <td>bias</td>\n",
              "      <td>Real</td>\n",
              "      <td>attorney general loretta lynch plead fifth</td>\n",
              "      <td>attorney general loretta lynch plead fifth bar...</td>\n",
              "      <td>1.0</td>\n",
              "    </tr>\n",
              "    <tr>\n",
              "      <th>2</th>\n",
              "      <td>Barracuda Brigade</td>\n",
              "      <td>2016-10-31T01:41:49.479+02:00</td>\n",
              "      <td>breaking weiner cooperating with fbi on hillar...</td>\n",
              "      <td>red state  \\nfox news sunday reported this mor...</td>\n",
              "      <td>english</td>\n",
              "      <td>100percentfedup.com</td>\n",
              "      <td>http://bb4sp.com/wp-content/uploads/2016/10/Fu...</td>\n",
              "      <td>bias</td>\n",
              "      <td>Real</td>\n",
              "      <td>breaking weiner cooperating fbi hillary email ...</td>\n",
              "      <td>red state fox news sunday reported morning ant...</td>\n",
              "      <td>1.0</td>\n",
              "    </tr>\n",
              "    <tr>\n",
              "      <th>3</th>\n",
              "      <td>Fed Up</td>\n",
              "      <td>2016-11-01T05:22:00.000+02:00</td>\n",
              "      <td>pin drop speech by father of daughter kidnappe...</td>\n",
              "      <td>email kayla mueller was a prisoner and torture...</td>\n",
              "      <td>english</td>\n",
              "      <td>100percentfedup.com</td>\n",
              "      <td>http://100percentfedup.com/wp-content/uploads/...</td>\n",
              "      <td>bias</td>\n",
              "      <td>Real</td>\n",
              "      <td>pin drop speech father daughter kidnapped kill...</td>\n",
              "      <td>email kayla mueller prisoner tortured isis cha...</td>\n",
              "      <td>1.0</td>\n",
              "    </tr>\n",
              "    <tr>\n",
              "      <th>4</th>\n",
              "      <td>Fed Up</td>\n",
              "      <td>2016-11-01T21:56:00.000+02:00</td>\n",
              "      <td>fantastic trumps  point plan to reform healthc...</td>\n",
              "      <td>email healthcare reform to make america great ...</td>\n",
              "      <td>english</td>\n",
              "      <td>100percentfedup.com</td>\n",
              "      <td>http://100percentfedup.com/wp-content/uploads/...</td>\n",
              "      <td>bias</td>\n",
              "      <td>Real</td>\n",
              "      <td>fantastic trumps point plan reform healthcare ...</td>\n",
              "      <td>email healthcare reform make america great sin...</td>\n",
              "      <td>1.0</td>\n",
              "    </tr>\n",
              "  </tbody>\n",
              "</table>\n",
              "</div>\n",
              "    <div class=\"colab-df-buttons\">\n",
              "\n",
              "  <div class=\"colab-df-container\">\n",
              "    <button class=\"colab-df-convert\" onclick=\"convertToInteractive('df-b075f100-64bf-4ce6-9f22-f5f708b4c5c8')\"\n",
              "            title=\"Convert this dataframe to an interactive table.\"\n",
              "            style=\"display:none;\">\n",
              "\n",
              "  <svg xmlns=\"http://www.w3.org/2000/svg\" height=\"24px\" viewBox=\"0 -960 960 960\">\n",
              "    <path d=\"M120-120v-720h720v720H120Zm60-500h600v-160H180v160Zm220 220h160v-160H400v160Zm0 220h160v-160H400v160ZM180-400h160v-160H180v160Zm440 0h160v-160H620v160ZM180-180h160v-160H180v160Zm440 0h160v-160H620v160Z\"/>\n",
              "  </svg>\n",
              "    </button>\n",
              "\n",
              "  <style>\n",
              "    .colab-df-container {\n",
              "      display:flex;\n",
              "      gap: 12px;\n",
              "    }\n",
              "\n",
              "    .colab-df-convert {\n",
              "      background-color: #E8F0FE;\n",
              "      border: none;\n",
              "      border-radius: 50%;\n",
              "      cursor: pointer;\n",
              "      display: none;\n",
              "      fill: #1967D2;\n",
              "      height: 32px;\n",
              "      padding: 0 0 0 0;\n",
              "      width: 32px;\n",
              "    }\n",
              "\n",
              "    .colab-df-convert:hover {\n",
              "      background-color: #E2EBFA;\n",
              "      box-shadow: 0px 1px 2px rgba(60, 64, 67, 0.3), 0px 1px 3px 1px rgba(60, 64, 67, 0.15);\n",
              "      fill: #174EA6;\n",
              "    }\n",
              "\n",
              "    .colab-df-buttons div {\n",
              "      margin-bottom: 4px;\n",
              "    }\n",
              "\n",
              "    [theme=dark] .colab-df-convert {\n",
              "      background-color: #3B4455;\n",
              "      fill: #D2E3FC;\n",
              "    }\n",
              "\n",
              "    [theme=dark] .colab-df-convert:hover {\n",
              "      background-color: #434B5C;\n",
              "      box-shadow: 0px 1px 3px 1px rgba(0, 0, 0, 0.15);\n",
              "      filter: drop-shadow(0px 1px 2px rgba(0, 0, 0, 0.3));\n",
              "      fill: #FFFFFF;\n",
              "    }\n",
              "  </style>\n",
              "\n",
              "    <script>\n",
              "      const buttonEl =\n",
              "        document.querySelector('#df-b075f100-64bf-4ce6-9f22-f5f708b4c5c8 button.colab-df-convert');\n",
              "      buttonEl.style.display =\n",
              "        google.colab.kernel.accessAllowed ? 'block' : 'none';\n",
              "\n",
              "      async function convertToInteractive(key) {\n",
              "        const element = document.querySelector('#df-b075f100-64bf-4ce6-9f22-f5f708b4c5c8');\n",
              "        const dataTable =\n",
              "          await google.colab.kernel.invokeFunction('convertToInteractive',\n",
              "                                                    [key], {});\n",
              "        if (!dataTable) return;\n",
              "\n",
              "        const docLinkHtml = 'Like what you see? Visit the ' +\n",
              "          '<a target=\"_blank\" href=https://colab.research.google.com/notebooks/data_table.ipynb>data table notebook</a>'\n",
              "          + ' to learn more about interactive tables.';\n",
              "        element.innerHTML = '';\n",
              "        dataTable['output_type'] = 'display_data';\n",
              "        await google.colab.output.renderOutput(dataTable, element);\n",
              "        const docLink = document.createElement('div');\n",
              "        docLink.innerHTML = docLinkHtml;\n",
              "        element.appendChild(docLink);\n",
              "      }\n",
              "    </script>\n",
              "  </div>\n",
              "\n",
              "\n",
              "<div id=\"df-dd5b8710-4344-420b-863c-be7e9effc02e\">\n",
              "  <button class=\"colab-df-quickchart\" onclick=\"quickchart('df-dd5b8710-4344-420b-863c-be7e9effc02e')\"\n",
              "            title=\"Suggest charts\"\n",
              "            style=\"display:none;\">\n",
              "\n",
              "<svg xmlns=\"http://www.w3.org/2000/svg\" height=\"24px\"viewBox=\"0 0 24 24\"\n",
              "     width=\"24px\">\n",
              "    <g>\n",
              "        <path d=\"M19 3H5c-1.1 0-2 .9-2 2v14c0 1.1.9 2 2 2h14c1.1 0 2-.9 2-2V5c0-1.1-.9-2-2-2zM9 17H7v-7h2v7zm4 0h-2V7h2v10zm4 0h-2v-4h2v4z\"/>\n",
              "    </g>\n",
              "</svg>\n",
              "  </button>\n",
              "\n",
              "<style>\n",
              "  .colab-df-quickchart {\n",
              "      --bg-color: #E8F0FE;\n",
              "      --fill-color: #1967D2;\n",
              "      --hover-bg-color: #E2EBFA;\n",
              "      --hover-fill-color: #174EA6;\n",
              "      --disabled-fill-color: #AAA;\n",
              "      --disabled-bg-color: #DDD;\n",
              "  }\n",
              "\n",
              "  [theme=dark] .colab-df-quickchart {\n",
              "      --bg-color: #3B4455;\n",
              "      --fill-color: #D2E3FC;\n",
              "      --hover-bg-color: #434B5C;\n",
              "      --hover-fill-color: #FFFFFF;\n",
              "      --disabled-bg-color: #3B4455;\n",
              "      --disabled-fill-color: #666;\n",
              "  }\n",
              "\n",
              "  .colab-df-quickchart {\n",
              "    background-color: var(--bg-color);\n",
              "    border: none;\n",
              "    border-radius: 50%;\n",
              "    cursor: pointer;\n",
              "    display: none;\n",
              "    fill: var(--fill-color);\n",
              "    height: 32px;\n",
              "    padding: 0;\n",
              "    width: 32px;\n",
              "  }\n",
              "\n",
              "  .colab-df-quickchart:hover {\n",
              "    background-color: var(--hover-bg-color);\n",
              "    box-shadow: 0 1px 2px rgba(60, 64, 67, 0.3), 0 1px 3px 1px rgba(60, 64, 67, 0.15);\n",
              "    fill: var(--button-hover-fill-color);\n",
              "  }\n",
              "\n",
              "  .colab-df-quickchart-complete:disabled,\n",
              "  .colab-df-quickchart-complete:disabled:hover {\n",
              "    background-color: var(--disabled-bg-color);\n",
              "    fill: var(--disabled-fill-color);\n",
              "    box-shadow: none;\n",
              "  }\n",
              "\n",
              "  .colab-df-spinner {\n",
              "    border: 2px solid var(--fill-color);\n",
              "    border-color: transparent;\n",
              "    border-bottom-color: var(--fill-color);\n",
              "    animation:\n",
              "      spin 1s steps(1) infinite;\n",
              "  }\n",
              "\n",
              "  @keyframes spin {\n",
              "    0% {\n",
              "      border-color: transparent;\n",
              "      border-bottom-color: var(--fill-color);\n",
              "      border-left-color: var(--fill-color);\n",
              "    }\n",
              "    20% {\n",
              "      border-color: transparent;\n",
              "      border-left-color: var(--fill-color);\n",
              "      border-top-color: var(--fill-color);\n",
              "    }\n",
              "    30% {\n",
              "      border-color: transparent;\n",
              "      border-left-color: var(--fill-color);\n",
              "      border-top-color: var(--fill-color);\n",
              "      border-right-color: var(--fill-color);\n",
              "    }\n",
              "    40% {\n",
              "      border-color: transparent;\n",
              "      border-right-color: var(--fill-color);\n",
              "      border-top-color: var(--fill-color);\n",
              "    }\n",
              "    60% {\n",
              "      border-color: transparent;\n",
              "      border-right-color: var(--fill-color);\n",
              "    }\n",
              "    80% {\n",
              "      border-color: transparent;\n",
              "      border-right-color: var(--fill-color);\n",
              "      border-bottom-color: var(--fill-color);\n",
              "    }\n",
              "    90% {\n",
              "      border-color: transparent;\n",
              "      border-bottom-color: var(--fill-color);\n",
              "    }\n",
              "  }\n",
              "</style>\n",
              "\n",
              "  <script>\n",
              "    async function quickchart(key) {\n",
              "      const quickchartButtonEl =\n",
              "        document.querySelector('#' + key + ' button');\n",
              "      quickchartButtonEl.disabled = true;  // To prevent multiple clicks.\n",
              "      quickchartButtonEl.classList.add('colab-df-spinner');\n",
              "      try {\n",
              "        const charts = await google.colab.kernel.invokeFunction(\n",
              "            'suggestCharts', [key], {});\n",
              "      } catch (error) {\n",
              "        console.error('Error during call to suggestCharts:', error);\n",
              "      }\n",
              "      quickchartButtonEl.classList.remove('colab-df-spinner');\n",
              "      quickchartButtonEl.classList.add('colab-df-quickchart-complete');\n",
              "    }\n",
              "    (() => {\n",
              "      let quickchartButtonEl =\n",
              "        document.querySelector('#df-dd5b8710-4344-420b-863c-be7e9effc02e button');\n",
              "      quickchartButtonEl.style.display =\n",
              "        google.colab.kernel.accessAllowed ? 'block' : 'none';\n",
              "    })();\n",
              "  </script>\n",
              "</div>\n",
              "\n",
              "    </div>\n",
              "  </div>\n"
            ],
            "application/vnd.google.colaboratory.intrinsic+json": {
              "type": "dataframe",
              "variable_name": "df",
              "summary": "{\n  \"name\": \"df\",\n  \"rows\": 2096,\n  \"fields\": [\n    {\n      \"column\": \"author\",\n      \"properties\": {\n        \"dtype\": \"category\",\n        \"num_unique_values\": 491,\n        \"samples\": [\n          \"Carole Roscitto\",\n          \"Paul Craig Roberts\",\n          \"Shelby Kellin\"\n        ],\n        \"semantic_type\": \"\",\n        \"description\": \"\"\n      }\n    },\n    {\n      \"column\": \"published\",\n      \"properties\": {\n        \"dtype\": \"string\",\n        \"num_unique_values\": 2006,\n        \"samples\": [\n          \"2016-10-26T22:46:15.945+03:00\",\n          \"2016-10-27T01:45:00.000+03:00\",\n          \"2016-11-02T18:22:24.792+02:00\"\n        ],\n        \"semantic_type\": \"\",\n        \"description\": \"\"\n      }\n    },\n    {\n      \"column\": \"title\",\n      \"properties\": {\n        \"dtype\": \"string\",\n        \"num_unique_values\": 1784,\n        \"samples\": [\n          \"presstvrussian warships flotilla off syrian coast\",\n          \"hillary responds to creepy joe biden caught groping dozens of young women\",\n          \"trump kills the gop with the lowest score in history of presidential leadership poll\"\n        ],\n        \"semantic_type\": \"\",\n        \"description\": \"\"\n      }\n    },\n    {\n      \"column\": \"text\",\n      \"properties\": {\n        \"dtype\": \"string\",\n        \"num_unique_values\": 1941,\n        \"samples\": [\n          \"a subject not often discussed is the topic of how to repair strained or broken relationships it is one that comes up in everyones life so it will be useful to make a few suggestions about it here we will talk about relationships from friends family and lovers\\nrelationships among friends we will treat first the first step in this process is to make an evaluation to determine whether the relationship is worth saving or rehabilitating it is a simple fact of life that some relationships have an expiration date when two people no longer have anything in common or their paths take them in divergent directions it may be difficult to find common ground in this situation it is always better to let the relationship die a natural death slowly rather than rapidly abrupt terminations may leave the other party with negative feelings and this should be avoided if at all possible\\nthere are some instances where repair is not possible when someone has committed a fundamental violation of trust or respect this is a warning sign that the person was never a friend in the first place another point to keep in mind is that repair of a broken relationship requiresno demandsthe participation of both parties if the other person is unwilling to participate in the process then your efforts will be futile and will come to nothing\\n\\nonce we have determined that the friendship is worth repairing or sustaining the next step is to decide how to make the first approach to the other party in this we must try to evaluate the reasons for the problems in the first place we should make an honest assessment about how things got to where they are did someone say or do something that caused hard feelings on the other side was there some intervening cause that made the two parties diverge in plans and activities these types of questions must be honestly and repeatedly asked we have a tendency to minimize our own hurtful actions and exaggerate those of others and this must be kept in mind\\nthe key rule at this point is to try to put ourselves in the shoes of the other party we must try to see things from our friends perspective for many people this can be difficult as it involves getting past our own feelings of hurt or rejection and into the shoes of the other person and yet it is essential very frequently the reasons for strained or broken friendships lies in the fact that there is some problem going on in the other persons life only by being a perceptive student of human nature can we divine the cause sometimes the only thing that caused the strained relationship was some misunderstanding that was easily curable\\nkeep in mind that we must tryat least in our own mindsto discover the source of the other persons problem this is not always possible as human beings are not always rational but we can at least make the effort i remember in the film hoffa that there was a great line from jack nicholson he told one of his men real problems real grievances can be resolved they can be negotiated but imaginary grievances that man is going to hate you for life i have no idea if jimmy hoffa every actually said this but it sounds like something he would have said he meant that we should avoid hurting the pride of our friends we should be acutely aware how it is sometimes the intangible slights that can most rankle with a man\\nwhen you have decided to make the first step it is always better to initiate contact directly do not wait for the other person to do it depending on the circumstances this should be done discreetly and without too much in the way of overpowering insistence there is a certain type of finesse that a man should have at critical times and this is one of them the approach should be direct but neither insistent nor demanding a fish is best hooked with a lure gently laid\\nof vital importance here is that the approach be sincere one should genuinely want to contact the other party sincerity is the glue that binds friendships together and permits their longevity there should be no hypocrisy or falsity in any of our dealings with friends this kind of thing is immediately apparent and once detected its whiff surrounds the offending party like a permanent cloud if the other party is receptive to the approach we can then gradually feel our way forward taking care to avoid the reasons why the friendship became strained in the first place things may never quite go back to what they were but at least we can find solid ground for a new frame of reference\\ntwo examples will suffice here the historian william shirer worked closely with famed correspondent edward r murrow when the two were in germany in the s yet after the war was over the two grew apart shirers account of the estrangement suggests that he was repelled by murrows enthusiastic adoption of the anticommunist hysteria of the time shirer found himself gradually blackballed from most major news networks before being forced out completely he broke with murrow over these events many decades later he approached murrow all venom spent the two were able to find common ground again\\n\\nanother example makes the same point theodore roosevelt was a strongwilled insistent man to say the least he was in a position to choose his successor as president and to this end he selected a man very different from him the affable and rotund william howard taft taft eventually began to find roosevelt an overbearing and unwelcome presence in his life the two men eventually broke completely a result of their personality differences and different conceptions of leadership to his credit roosevelt eventually approached his old friend privately to patch things up they were never the same of course but at least some cordiality was restored\\nrelationships with family are of a fundamentally different sort because we are linked by bonds of blood or perhaps marriage it will be more difficult to disentangle ourselves from those with whom we have become estranged on the other hand it may be easier to repair such grievances or at least find common ground since there may be more shared experiences with the other party that act in our favor the key here is not to expect too much although shared history and common blood may work in our favor they can be counterbalanced to some extent by the fact that irrational family antagonisms can run deeper than those from strained friendships patience and persistence are most important here perhaps more so than friendships with those unrelated to us\\n\\nrepairing strained relationships with lovers is perhaps the most difficult when a man and woman have been united in the past through the coital act an entirely different set of emotions and motivations come into play relationships between lovers can fail or become strained for an infinite number of reasons and it would be impossible to discuss all of them here it is enough for me to state my opinion that it is nearly impossible to bring an intimate sexual relationship back to what it was after it has been broken\\nstrained is one thing broken is quite another my own experience leads me to believe that once a sexual relationship is done it is done one cannot really go back to what it was before amicable dealings are certainly possible and happen all the time but i would not call this friendship i would call it an uneasy equilibrium loves inflammatory presence scorches all it leaves in its wake\\nread more   proven ways to stop obsessive thoughts\",\n          \"louder with crowder october   \\nsamantha bee is proof positive that being funny clever or photogenic are no longer requirements in leftist media i guess we can call that progress problem is whatever the size of bees audience there is still an audience which she lied to par for the course in leftist circles but this one needs a rebuttal samantha bee said partial birth abortion is not a thing while she ranted and raved at donald trump for his comments in the final debate  sorry sammy partial birth abortion is sadly a thing \\nheres what i find interesting bees need to explain away partial birth abortion shows just how unpopular the procedure is shes trying to get rid of it not unlike a woman hoping to chop shop her unborn baby  of course she stops short of saying its a heinous evil thing for people to do to their own children by excusing the sick evil twisted women and the doctors who perform the butchery who make it happen sorry there is no reason to suck the brains out of a partially born baby for the health of the mother or if the baby has a terminal disease \\nabortion is always wrong like always \\nbecause chopping up a baby while its partially hanging out of the mother its head still in the birth canal because its going to die anyway makes sense if you agree with killing a baby like this for any reason youre sick probably a little bit evil read dear evil women who abort their babies yep that was written for you abortion supporters not sorry you might also like dear liberal women no getting an abortion is not brave this article was posted wednesday october   at  am share this article\",\n          \"united states marine field mcconnell  plum city online   abeldangernet   october   \\n abel danger  ad  claims that serco relayed zulu timing signals to mentors of the federal bridge certification authority in support of live webcast of torture killings in the mumbai attacks of november  and bc pig farm raves  \\n\\n ad claims that serco used an a prot\\u00e9g\\u00e9 company  base one technologies  to blackmail hillary clinton into outsourcing the operation of the us patent and trademark office to users of the federal bridge and equipping selected users with patented webcast servers for zulu betting on the times of victims deaths \\n\\n ad claims that in  serco operatives at the national visa center began equipping hillary clinton and michelle obama  a former sidley austin intellectual property ip lawyer and a prot\\u00e9g\\u00e9e of terrorist bernardine dohrn  with a longrange visa service for the bc pig farm and mumbai snufffilm crews \\n\\n united states marine field mcconnell  global operations director of abel danger  has offered to serve as a fivestar general in a future trump administration so he can first recognize and then destroy sercos zulu bridge to clinton patents and obama snufffilm crews \\n\\nmumbai terror attack watch nsg successful in mission against mumbai attackers   \\nmedia coverage of starnet raid  august       \\n\\nhillary clinton vs james comey email scandal supercut  \\ncopy of serco group plc list of subsidiaries and shareholders note british and saudi governments axa hsbc  teachers and gold man sachs    \\ndefense ammunition center outsourced to serco    \\nserco  would you like to know more  \\n\\ndigital fires instructor serco  camp pendleton ca uses information derived from all military disciplines eg aviation ground combat command and control combat service support intelligence and opposing forces to determine changes in enemy capabilities vulnerabilities and probable courses of action \\n\\nthe  mumbai bombay attacks were a series of attacks that took place in november  when  members of lashkaretaiba  an islamic militant organisation based in pakistan  carried out a series of  coordinated shooting and bombing attacks lasting four days across mumbai  the attacks which drew widespread global condemnation began on wednesday  november and lasted until saturday  november  killing  people and wounding at least    \\n\\neight of the attacks occurred in south mumbai at chhatrapati shivaji terminus  the oberoi trident the taj mahal palace  tower  leopold cafe cama hospital the nariman house jewish community centre the metro cinema and in a lane behind the times of india building and st xaviers college  there was also an explosion at mazagaon in mumbais port area and in a taxi at vile parle  by the early morning of  november all sites except for the taj hotel had been secured by mumbai police and security forces on  november indias national security guards nsg conducted operation black tornado to flush out the remaining attackers it culminated in the death of the last remaining attackers at the taj hotel and ending the attacks ajmal kasab disclosed that the attackers were members of lashkaretaiba among others the government of india said that the attackers came from pakistan and their controllers were in pakistan on  january  pakistan confirmed the sole surviving perpetrator of the attacks was a pakistani citizen on  april  the foremost ringleader of the attacks zakiur rehman lakhvi  was granted bail against surety bonds of  us in pakistan \\n\\nthe case of the vanishing visa files  \\ndecember    pm pst  \\nby chuck goudie   \\ndecember   chicago  potentially important evidence has disappeared in a terrorism case involving two chicago men their visa records vanished from chicagos indian consulate it comes one week after the abc  iteam raised questions about how david coleman headley and tahawwur rana obtained their foreign visas in the first place \\n\\nthe case of the vanishing visa records has churned up diplomats from mumbai to michigan avenue indias foreign secretary nirupama rao told reporters overseas wednesday that she wants answers from chicagos indian consulate about the records and visa documents that have disappeared records that might show how two accused chicago terrorists obtained permission to scout targets in india \\n\\ntop officials of chicagos india consulate wouldnt talk to the iteam on camera last week when asked how terror suspects david coleman headley and tahawwur rana obtained fiveyear unlimited passage visas to india \\n\\nand the consul general did not return calls wednesday regarding the paperwork they used to process headley and ranas visas which indian foreign secretary nirupama rao announced wednesday have disappeared \\n\\nwednesday evening the chicago consul general emailed a statement to the iteam that conflicted with government statements made in india the brief statement read we have not reported loss of any papers regarding issuance of visa to david coleman headley and tahawwur rana hussain relevant information concerning the issuance of visa to these persons is available with the government of india \\n\\nindias counterpart to the fbi is looking into the visa application process as part of its probe into the  mumbai massacre \\n\\nthe two chicago suspects are accused of having roles in the assault rana was denied bond by a chicago district judge tuesday despite family members and friends offering  million in cash and property rana has not been directly charged with the mumbai attack that left  dead but was linked to the assault in government court filings \\n\\nheadley a pakistanborn chicagoan is a convicted heroin dealer whose birth name was daood giliani he changed his name to ease travel to india according to federal prosecutors in chicago and to avoid the required previsa background check by indian authorities \\n\\nsince the time headley and rani were processed indias chicago consulate office began contracting out visa requests to a private company called travisa outsourcing that on its website claims we have revolutionized the way people get their visas \\n\\nand the new visa processing was subject of a news conference last year \\n\\nthe advantages of outsourcing is the travisa company which is handling the outsourcing has set up a call center said ashok kumar attri consul general \\n\\nforeign secretary rao said she is impressed with the cooperation the us has given to indian investigators headley and rana are not due back in court until january \\n\\nwas bernardine dohrn the mentor of michelle obama at sidley austin  \\napril    \\nbernardine dohrn was at sidley austin a law firm in chicago from from  to  dohrn was employed by the law firm sidley austin although her criminal record has prevented her from being admitted to either the new york or illinois bar httpenwikipediaorgwikibernardine_dohrn \\n\\nmichelle obama graduated from harvard law school in  but she likely also was a summer associate in  and likely  barack obama was assigned to her in  when he was a summer associate from harvard law school httpenwikipediaorgwikibarack_obama \\n\\nhe entered harvard law school in  more links and excerpts \\n\\nhttpsoldatlanticlighthousewordpresscomnorthwesternlawprofbernardinedohrnweatherunderground   \\n\\nsteve sailer on michelle obama \\nhttpwwwvdarecomsailer_michelle_obamahtm   \\n\\nmichelles princeton thesis \\nhttpblogvdarecomarchivesmichelleobamathesisfounddownloadithere   \\n\\njames fulford quotes politico \\n\\nmichelle obamas senior year thesis at princeton university obtained exclusively from the campaign by politico  shows a document written by a young woman grappling with a society in which a black princeton alumnus might only be allowed to remain on the periphery read the full thesis here part   part   part   part   michelle obama thesis was on racial divide  jeffrey ressner  politicocom \\n\\nsidley austin likely recognized this in michelle even if she didnt show them her princeton thesis who better at sidley austin to be mentor to the author of this princeton thesis than bernardine dohrn who had been number  on the fbi most wanted list \\n\\nbarack obama was assigned to michelle obama in summer  this may have reflected how few blacks there were at sidley austin especially from harvard law school or the equivalent dohrn got her jd from university of chicago law school since she is a prof at northwestern despite her background we might infer she was very smart and understanding so she was the perfect person to be the mentor for michelle obama at sidley austin \\n\\nthe above is speculation hypotheses or opinion all statements should be restated as questions all other disclaimers apply \\n\\nwebcasting is the distribution of media files through the internet the earliest webcast equivalent of an online concert and one of the earliest examples of webcasting itself was by apple computer s webcasting group in partnership with the entrepreneurs michael dorf and andrew rasiej  together with david b pakman from apple they launched the macintosh new york music festival from july   this event audio webcast concerts from more than  clubs in new york city apple later webcast a concert by metallica on june   live from slims in san francisco   \\n\\nin  benford e standley produced one of the first audiovideo webcasts in history on october   uk rock band caduseus broadcast their onehour concert from pm to am ut at celtica in machynlleth wales uk  the first live streamed audio and simultaneous live streamed video multicast  around the globe to more than twenty direct mirrors in more than twenty countries   \\n\\nserco processes  millionth patent application for us patent and trademark office date  mar  serco inc a leading provider of professional technology and management services to the federal government announced today that their pregrant publication pgpubs classification services team recently processed their  millionth patent application for the us patent  trademark office uspto each application was also processed within the contractually required day window \\n\\nbreaking hillaryclintons email server company got almost  million in govt loans after wiping emails   \\noctober    \\nby charles c johnson  comments  \\ngive it up already its over k j gillenwater was the primary researcher behind this story \\n\\nhillary clintons email server company got almost  million in government loans starting immediately after they were secretly asked to wipe hillary clintons name from her emails \\n\\nplatte river networks prn got a  loan from the small business administration in august  and another  loan in september  \\n\\npublic government data available as usaspendinggov \\n\\nthe first halfmillion dollar loan arrived not one month after prn employee paul combetta was caught accidentally revealing his company was deleting evidence at hillarys request in july   \\n\\nthe second  loan came about one year later \\n\\nyou wont hear this stuff from the lying mainstream media keep the gotnews mission alive donate at gotnewscomdonate or send tips to editorgotnewscom if youd like to join our research team contacteditorgotnewscom \\n\\nafter getting the first loan prn moved to a large office space after previously working out of the owners condo the head of the small business administration is maria contrerassweet  a mexican immigrant who was appointed to the office by barack obama two months before hillarys prn got the first loan \\n\\nwikileaks leaks have proven hillarys corrupt paytoplay scheme gotnews has shined a light on how hillary gets favors from hispanic and democratic government bureaucrats before  \\n\\ndid hillary clinton pay her email server company platte river networks prn with almost  million in favorable government loans  given out by a political friendly  in order to alter her illegal emails and get her name off them \\n\\nit sure looks like it \\n\\na freedom of information act foia request has been lodged for more information \\n\\nstay tuned for more \\n\\nk j gillenwater was the primary researcher behind this story  \\n\\npolice conclude search of starnet   \\ncbc news posted aug    am et last updated aug    am et  \\npolice have wrapped up several days of searching the offices of starnet communications in vancouver they entered the company offices and homes of some directors on friday \\n\\npolice were looking for evidence of illegal gambling distributing child pornography and money laundering since the raid starnet officials say police just dont understand their business \\n\\nthe search warrant details  months of police investigation it traces a network of companies registered in american and caribbean jurisdictions \\n\\nthe warrant also identifies vancouver as the centre of starnets operations even though this is a grey under canadian law \\n\\npolice note that starnets revenues grew dramatically in the past two years from betting and sex shows and from lucrative licensing agreements for its gaming software the investigations and pornography from company sites were grounds for fridays raid and seizure of company materials \\n\\nrcmp constable peter thiessen says investigators left starnet offices yesterday morning he says they spent the better part of three days going through the business and as a result of that search the investigation is continuing but no charges have been laid starnets many investors were spooked by the raid share prices dropped almost percent on friday however the company insists the raid had minimal effect on its operation stocks rose slightly yesterday after a day of very heavy trading \\n\\nin written statements company ceo mark dohlen said the wall street journal calls starnet the leader in internet gaming and entertainment he says companies like his those on the cutting edge are often misunderstood yesterday starnet announced it will sell off the sex side of its business it plans to focus more resources on gaming \\n\\nthe police investigation is expected to last for several more months \\n\\nsuper serco bulldozes ahead  \\nby daily mail reporter updated  gmt  september  \\nserco has come a long way since the s when it ran the fourminute warning system to alert the nation to a ballistic missile attack \\n\\ntoday its bn order book is bigger than many countries defence budgets it is bidding for a further bn worth of contracts and sees bn of opportunities \\n\\nprofit growth is less ballistic the firsthalf pretax surplus rose  to m net profits just  to m stripping out goodwill the rise was  with dividends up  to p \\n\\nserco runs the docklands light railway five uk prisons airport radar and forest bulldozers in florida  \\n\\n serco farewell to npl after  years of innovation  january  serco said goodbye to the national physical laboratory npl at the end of december  after  years of extraordinary innovation and science that has seen the establishment build a worldleading reputation and deliver billions of pounds of benefit for the uk economy during that period under serco s management and leadership npl has delivered an extraordinary variety and breadth of accomplishments for the uks economy and industry some of the key achievements during that time have been it has been estimated that work carried out by the centre of carbon measurement at npl will save eight million tonnes of carbon emissions reductions  of uk footprint and over half a billion pounds in economic benefit over the next decade npls caesium fountain atomic clock is accurate to  second in  million years and npl is playing a key role in introducing rigour to high frequency trading for serco s front running banks in the city through npl zulu time \\n\\nuk cabinet office  emergency planning college  serco types of exercise workshop exercises these are structured discussion events where participants can explore issues in a less pressurised environment they are an ideal way of developing solutions procedures and plans rather than the focus being on decision making table top exercises these involve a realistic scenario and will follow a time line either in realtime or with time jumps to concentrate on the more important areas the participants would be expected to be familiar with the plans and procedures that are being used although the exercise tempo and complexity can be adjusted to suit the current state of training and readiness simulation and media play can be used to support the exercise tabletop exercises help develop teamwork and allow participants to gain a better understanding of their roles and that of other agencies and organisations commandcontrol post exercises these are designed primarily to exercise the senior leadership and support staff in collective planning and decision making within a strategic grouping ideally such exercises would be run from the real command and control locations and using their communications and information systems feeling lucky punk  this could include a mix of locations and varying levels of technical simulation support the gold standard system is flexible to allow the tempo and intensity to be adjusted to ensure maximum training benefit or to fully test and evaluate the most important aspects of a plan such exercises also test information flow communications equipment procedures decision making and coordination live exercises these can range from testing individual components of a system or organisation through to a fullscale rehearsal they are particularly useful where there are regulatory requirements or with highrisk situations they are more complex and costly to organise and deliver but can be integrated with command post exercises as part of a wider exercising package  \\n\\nchristopher rajendran hyman cbe born  july  in durban south africa was chief executive of serco group plc from  to october   on graduation he worked for arthur andersen in  he won an month exchange with ernst  young in london who employed him after four months head hunted in  by serco  hyman became european finance director and in  was made group finance director in  hyman became chief executive  hyman resigned from his role of chief executive of serco on  october  following allegations that serco had overcharged government customers  he was making a presentation to serco shareholder including british and saudi governments on the th floor of the world trade center north tower at the time of the september  attacks in  \\n\\njuly   developments in pki occurred in the early s at the british intelligence agency gchq  where james ellis  clifford cocks and others made important discoveries related to encryption algorithms and key distribution   however as developments at gchq are highly classified the results of this work were kept secret and not publicly acknowledged until the mids \\n\\nthe public disclosure of both secure key exchange and asymmetric key algorithms in  by diffie hellman  rivest shamir  and adleman changed secure communications entirely with the further development of highspeed digital electronic communications the internet and its predecessors a need became evident for ways in which users could securely communicate with each other and as a further consequence of that for ways in which users could be sure with whom they were actually interacting \\n\\nassorted cryptographic protocols were invented and analyzed within which the new cryptographic primitives could be effectively used with the invention of the world wide web and its rapid spread the need for authentication and secure communication became still more acute commercial reasons alone eg ecommerce online access to proprietary databases from web browsers were sufficient taher elgamal and others at netscape developed the ssl protocol https in web urls it included key establishment server authentication prior to v oneway only and so on a pki structure was thus created for web userssites wishing secure communications \\n\\nvendors and entrepreneurs saw the possibility of a large market started companies or new projects at existing companies and began to agitate for legal recognition and protection from liability an american bar association technology project published an extensive analysis of some of the foreseeable legal aspects of pki operations see aba digital signature guidelines and shortly thereafter several us states utah being the first in  and other jurisdictions throughout the world began to enact laws and adopt regulations consumer groups raised questions about privacy access and liability considerations which were more taken into consideration in some jurisdictions than in others \\n\\nthe enacted laws and regulations differed there were technical and operational problems in converting pki schemes into successful commercial operation and progress has been much slower than pioneers had imagined it would be \\n\\nby the first few years of the st century the underlying cryptographic engineering was clearly not easy to deploy correctly operating procedures manual or automatic were not easy to correctly design nor even if so designed to execute perfectly which the engineering required the standards that existed were insufficient \\n\\npki vendors have found a market but it is not quite the market envisioned in the mids and it has grown both more slowly and in somewhat different ways than were anticipated pkis have not solved some of the problems they were expected to and several major vendors have gone out of business or been acquired by others pki has had the most success in government implementations the largest pki implementation to date is the defense information systems agency disa pki infrastructure for the common access cards program  \\n\\nbase one technologies  corporate strategy  we are a government certified womenowned business   \\nwe practice diversity recruitment and staffing for it positions base one was founded in  by a women engineer who had made a career in technology research for many years base one has been very successful in focusing on diversity recruiting and staffing for it projects it has been our experience that the greater the diversity mix the more creative the solution as in any field the more diverse the viewpoint the more thorough your analysis our engineers can think out of the box \\n\\nbecause of our affiliations we have access to pools of resources among more diverse groups  individuals we work with a large pool of minority professionals who specialize in it skills we are able to have access to these resources through our status as a dmwbd firm and our affiliations these affiliations assist us in working with resources among more diverse groups  individuals we are also partnered with firms that are a certified as minority firms disabled veteran firms native american firms vietnam veteran firms women owned firms \\n\\nour hub zone location keeps us close to the professional organizations of great diversity we are active in recruiting from and networking with these community organizations of local it professionals this has given us access to a large pool of diversity talent \\n\\nbase ones staff of engineers are a diverse group of professionals this diverse network of engineers helps us to branch out to other engineers and creates an even larger network of resources for us to work with \\n\\nthe greater the diversity the more complete  thorough the analysis the broader the spectrum of points of view the broader the scope of the analysis we feel that a diverse team gives us a greater advantage in creating cutting edge solutions to that end we will continue to nurture these relationships to further extend our talent pool \\n\\nthe greater the diversity mix the more creative the solution \\n\\nthe more diverse the viewpoint the more thorough the analysis \\n\\nthe more diverse our team the more our engineers can think out of the box \\n\\nthis is why base one technologies concentrates on diversity recruitment in the belief that a diverse team gives us a greater advantage in creating cutting edge solutions \\n\\ninformation security planning is the process whereby an organization seeks to protect its operations and assets from data theft or computer hackers that seek to obtain unauthorized information or sabotage business operations \\n\\nkey clients benefiting from our information security expertise pentagon renovation program faa citigroup mci \\n\\nbase one technologies \\n\\nexpertly researches designs and develops information security policies that protect your data and manage your firms information technology risk at levels acceptable to your business \\n\\nperforms architectural assessments and conducts both internal and external penetration testing the results of these efforts culminate in an extensive risk analysis and vulnerabilities report \\n\\ndevelops implements and supports information security counter measures such as honeypots and evidence logging and incident documentation processes and solutions \\n\\nbase one technologies ltd is a domestic business corporation located in new york ny and was formed on feb   this file was obtained from the secretary of state and has a file number of   \\n\\nsercos office of partner relations opr helps facilitate our aggressive small business utilization and growth strategies through the opr serco mentors four local small businesses under formal mentor prot\\u00e9g\\u00e9 agreements three sponsored by dhs base one technologies tsymmetry inc and heitech services inc and the fourth sponsored by gsa dkw communications inc serco and heitech services were awarded the  dhs mentor prot\\u00e9g\\u00e9 team award for exceeding our mentoring goals httpwwwdticmilwhsdirectivescorrespdfppdf \\n\\nopened in  as the successor to the transitional immigrant visa processing center in rosslyn va the nvc centralizes all immigrant visa preprocessing and appointment scheduling for overseas posts the nvc collects paperwork and fees before forwarding a case ready for adjudication to the responsible post \\n\\nthe center also handles immigrant and fianc\\u00e9 visa petitions and while it does not adjudicate visa applications it provides technical assistance and support to visaadjudicating consular officials overseas \\n\\nonly two foreign service officers the director and deputy director work at the center along with just five civil service employees they work with almost  contract employees doing preprocessing of visas making the center one of the largest employers in the portsmouth area \\n\\nthe contractor serco  inc has worked with the nvc since its inception and with the department for almost  years \\n\\nthe nvc houses more than  million immigrant visa files receives almost two million pieces of mail per year and received more than half a million petitions from the us citizenship and immigration service uscis in  its file rooms highdensity shelves are stacked floortoceiling with files each a collection of someones hopes and dreams and each requiring proper handling  \\n\\nthe nvc also preprocesses the chief of mission com application required for the filing of a petition for a special immigrant visa siv such visas for foreign nationals who have performed services for the us government in iraq and afghanistan require com concurrence before the applicant can file a petition with uscis the nvc collects the requisite documents from such applicants and when complete forwards the package to the us embassies in baghdad or kabul for com approval \\n\\nyours sincerely \\n\\nfield mcconnell united states naval academy  forensic economist  year airline and  year military pilot  hours of safety tel    \\n\\ndavid hawkins tel   forensic economist former leader of oilwell blowout teams now sponsors grand juries in csi crime and safety investigation\"\n        ],\n        \"semantic_type\": \"\",\n        \"description\": \"\"\n      }\n    },\n    {\n      \"column\": \"language\",\n      \"properties\": {\n        \"dtype\": \"category\",\n        \"num_unique_values\": 5,\n        \"samples\": [\n          \"ignore\",\n          \"spanish\",\n          \"german\"\n        ],\n        \"semantic_type\": \"\",\n        \"description\": \"\"\n      }\n    },\n    {\n      \"column\": \"site_url\",\n      \"properties\": {\n        \"dtype\": \"category\",\n        \"num_unique_values\": 68,\n        \"samples\": [\n          \"proudemocrat.com\",\n          \"clickhole.com\",\n          \"abovetopsecret.com\"\n        ],\n        \"semantic_type\": \"\",\n        \"description\": \"\"\n      }\n    },\n    {\n      \"column\": \"main_img_url\",\n      \"properties\": {\n        \"dtype\": \"string\",\n        \"num_unique_values\": 1229,\n        \"samples\": [\n          \"https://4.bp.blogspot.com/-HAp5fNZT0L0/WCr1jhplhiI/AAAAAAAAmGY/E2AUUm8wydo_dB2DtBE_cN2xqwHjB0zTgCLcB/w1200-h630-p-nu/Flitzer-Schach-WM.jpg\",\n          \"http://www.voltairenet.org/local/cache-vignettes/L113xH150/arton193897-6c713.jpg\",\n          \"http://awdnews.com/images/14775618731.jpg\"\n        ],\n        \"semantic_type\": \"\",\n        \"description\": \"\"\n      }\n    },\n    {\n      \"column\": \"type\",\n      \"properties\": {\n        \"dtype\": \"category\",\n        \"num_unique_values\": 8,\n        \"samples\": [\n          \"conspiracy\",\n          \"hate\",\n          \"bias\"\n        ],\n        \"semantic_type\": \"\",\n        \"description\": \"\"\n      }\n    },\n    {\n      \"column\": \"label\",\n      \"properties\": {\n        \"dtype\": \"category\",\n        \"num_unique_values\": 2,\n        \"samples\": [\n          \"Fake\",\n          \"Real\"\n        ],\n        \"semantic_type\": \"\",\n        \"description\": \"\"\n      }\n    },\n    {\n      \"column\": \"title_without_stopwords\",\n      \"properties\": {\n        \"dtype\": \"string\",\n        \"num_unique_values\": 1780,\n        \"samples\": [\n          \"weekly astrology nov us election prediction video\",\n          \"friday fox follies megyn murdochs money\"\n        ],\n        \"semantic_type\": \"\",\n        \"description\": \"\"\n      }\n    },\n    {\n      \"column\": \"text_without_stopwords\",\n      \"properties\": {\n        \"dtype\": \"string\",\n        \"num_unique_values\": 1937,\n        \"samples\": [\n          \"email ever wonder whats mind todays notable people well dont miss unbelievable roundup best talked quotes day saw contortionist fold box toys food box didnt really see point paula hawkins flexibility youre rich pay guy breathe shoes warm put youre less wealthy still afford someone really matter frugal spending organizing coop neighborhood people take turns breathing others shoes sheryl sandberg everyday luxury skin avocado hide many secret remove journey mystery madness neil gaiman\",\n          \"sonntag november sonntagsfrage sagen sie dazu dass donald trump tats\\u00e4chlich gewonnen hat w das werden sich hierzulande viele gedacht haben als sie mittwochmorgen die ersten nachrichten von donald trumps sieg gelesen haben nun wo sie sich allm\\u00e4hlich damit abgefunden haben d\\u00fcrften der ustillon nicht unterst\\u00fctzt vom meinungsforschungsinstitut opinion control weil denen seit der wahl nicht mehr zu trauen ist dieser woche von ihnen wissen und hier noch die unglaublich spannenden ergebnisse der letzten sonntagsfrage stimmen gesamt wer soll n\\u00e4chster bundespr\\u00e4sident werden topantworten tim wiese pro rhetorisches ass contra passt nicht durch die t\\u00fcr im schloss bellevue stimmen ich selbst pro einzige person der ich traue contra leider korrupt stimmen jan b\\u00f6hmermann pro etwas lustiger als gauck contra krieg mit der t\\u00fcrkei stimmen\"\n        ],\n        \"semantic_type\": \"\",\n        \"description\": \"\"\n      }\n    },\n    {\n      \"column\": \"hasImage\",\n      \"properties\": {\n        \"dtype\": \"number\",\n        \"std\": 0.41629892386736406,\n        \"min\": 0.0,\n        \"max\": 1.0,\n        \"num_unique_values\": 2,\n        \"samples\": [\n          0.0,\n          1.0\n        ],\n        \"semantic_type\": \"\",\n        \"description\": \"\"\n      }\n    }\n  ]\n}"
            }
          },
          "metadata": {},
          "execution_count": 17
        }
      ]
    },
    {
      "cell_type": "code",
      "source": [
        "df.info()"
      ],
      "metadata": {
        "colab": {
          "base_uri": "https://localhost:8080/"
        },
        "id": "AI0o2fnBDmKL",
        "outputId": "46578b78-bd94-4431-d41f-c5c65efc5384"
      },
      "execution_count": 20,
      "outputs": [
        {
          "output_type": "stream",
          "name": "stdout",
          "text": [
            "<class 'pandas.core.frame.DataFrame'>\n",
            "RangeIndex: 2096 entries, 0 to 2095\n",
            "Data columns (total 12 columns):\n",
            " #   Column                   Non-Null Count  Dtype  \n",
            "---  ------                   --------------  -----  \n",
            " 0   author                   2096 non-null   object \n",
            " 1   published                2096 non-null   object \n",
            " 2   title                    2096 non-null   object \n",
            " 3   text                     2050 non-null   object \n",
            " 4   language                 2095 non-null   object \n",
            " 5   site_url                 2095 non-null   object \n",
            " 6   main_img_url             2095 non-null   object \n",
            " 7   type                     2095 non-null   object \n",
            " 8   label                    2095 non-null   object \n",
            " 9   title_without_stopwords  2094 non-null   object \n",
            " 10  text_without_stopwords   2046 non-null   object \n",
            " 11  hasImage                 2095 non-null   float64\n",
            "dtypes: float64(1), object(11)\n",
            "memory usage: 196.6+ KB\n"
          ]
        }
      ]
    },
    {
      "cell_type": "code",
      "source": [
        "df.isnull().sum()"
      ],
      "metadata": {
        "colab": {
          "base_uri": "https://localhost:8080/"
        },
        "id": "okioOssSDuRw",
        "outputId": "18c7ecc7-181f-43be-8491-4ba586cac094"
      },
      "execution_count": 21,
      "outputs": [
        {
          "output_type": "execute_result",
          "data": {
            "text/plain": [
              "author                      0\n",
              "published                   0\n",
              "title                       0\n",
              "text                       46\n",
              "language                    1\n",
              "site_url                    1\n",
              "main_img_url                1\n",
              "type                        1\n",
              "label                       1\n",
              "title_without_stopwords     2\n",
              "text_without_stopwords     50\n",
              "hasImage                    1\n",
              "dtype: int64"
            ]
          },
          "metadata": {},
          "execution_count": 21
        }
      ]
    },
    {
      "cell_type": "code",
      "source": [
        "df.dropna(inplace=True, axis=0)"
      ],
      "metadata": {
        "id": "hIupyWbmE6wa"
      },
      "execution_count": 29,
      "outputs": []
    },
    {
      "cell_type": "code",
      "source": [
        "x = df['title_without_stopwords']\n",
        "y = df['label']"
      ],
      "metadata": {
        "id": "H2TC7C5FDvlF"
      },
      "execution_count": 30,
      "outputs": []
    },
    {
      "cell_type": "code",
      "source": [
        "len(x), len(y)"
      ],
      "metadata": {
        "colab": {
          "base_uri": "https://localhost:8080/"
        },
        "id": "n0g_yKj_EBR_",
        "outputId": "db2edaf6-e563-48df-abfb-a40dd3793598"
      },
      "execution_count": 31,
      "outputs": [
        {
          "output_type": "execute_result",
          "data": {
            "text/plain": [
              "(2045, 2045)"
            ]
          },
          "metadata": {},
          "execution_count": 31
        }
      ]
    },
    {
      "cell_type": "code",
      "source": [
        "train_size = int(len(x) * .8)"
      ],
      "metadata": {
        "id": "pd5hiRCyEGFN"
      },
      "execution_count": 32,
      "outputs": []
    },
    {
      "cell_type": "code",
      "source": [
        "#tokenizing\n",
        "token = Tokenizer(num_words=1000, char_level=False)\n",
        "token.fit_on_texts(df['title_without_stopwords'])\n",
        "train_sequences = token.texts_to_sequences(x[:train_size])\n",
        "test_sequences = token.texts_to_sequences(x[train_size:])"
      ],
      "metadata": {
        "id": "y9N44U97EI0d"
      },
      "execution_count": 33,
      "outputs": []
    },
    {
      "cell_type": "code",
      "source": [
        "x_train = pad_sequences(train_sequences, maxlen=100)\n",
        "x_test = pad_sequences(test_sequences, maxlen=100)"
      ],
      "metadata": {
        "id": "PBsx0jc4En0e"
      },
      "execution_count": 34,
      "outputs": []
    },
    {
      "cell_type": "code",
      "source": [
        "encoder = LabelEncoder()\n",
        "y_train = encoder.fit_transform(y[:train_size])\n",
        "y_test = encoder.transform(y[train_size:])"
      ],
      "metadata": {
        "id": "k6_CwHj1FKQw"
      },
      "execution_count": 35,
      "outputs": []
    },
    {
      "cell_type": "code",
      "source": [
        "y_train = to_categorical(y_train)\n",
        "y_test = to_categorical(y_test)"
      ],
      "metadata": {
        "id": "-xO4yus2FSsj"
      },
      "execution_count": 36,
      "outputs": []
    },
    {
      "cell_type": "code",
      "source": [
        "x_train.shape, y_train.shape"
      ],
      "metadata": {
        "colab": {
          "base_uri": "https://localhost:8080/"
        },
        "id": "xVyOX3TCFW0A",
        "outputId": "7b320203-a7e4-47e2-a9c6-79e1b2d93298"
      },
      "execution_count": 37,
      "outputs": [
        {
          "output_type": "execute_result",
          "data": {
            "text/plain": [
              "((1636, 100), (1636, 2))"
            ]
          },
          "metadata": {},
          "execution_count": 37
        }
      ]
    },
    {
      "cell_type": "code",
      "source": [
        "encoder.classes_"
      ],
      "metadata": {
        "colab": {
          "base_uri": "https://localhost:8080/"
        },
        "id": "xDWliDTdFZg5",
        "outputId": "1bcffcb9-07de-4cce-e8c1-7914ee7cd27a"
      },
      "execution_count": 38,
      "outputs": [
        {
          "output_type": "execute_result",
          "data": {
            "text/plain": [
              "array(['Fake', 'Real'], dtype=object)"
            ]
          },
          "metadata": {},
          "execution_count": 38
        }
      ]
    },
    {
      "cell_type": "code",
      "source": [
        "model = Sequential()\n",
        "model.add(Embedding(input_dim=1000, output_dim=50))\n",
        "model.add(Flatten())\n",
        "model.add(Dense(32, activation='relu'))\n",
        "model.add(Dropout(0.3))\n",
        "model.add(Dense(2, activation='sigmoid'))"
      ],
      "metadata": {
        "id": "VlKJOOzNFclN"
      },
      "execution_count": 41,
      "outputs": []
    },
    {
      "cell_type": "code",
      "source": [
        "model.compile(\n",
        "    optimizer='adam',\n",
        "    loss=binary_crossentropy,\n",
        "    metrics=['accuracy']\n",
        "\n",
        ")"
      ],
      "metadata": {
        "id": "HryroZOoF4xB"
      },
      "execution_count": 43,
      "outputs": []
    },
    {
      "cell_type": "code",
      "source": [
        "model.summary()"
      ],
      "metadata": {
        "colab": {
          "base_uri": "https://localhost:8080/",
          "height": 306
        },
        "id": "ZYbE24NxGjoE",
        "outputId": "5cafd791-be29-4169-a3a0-4594b46f7a1a"
      },
      "execution_count": 44,
      "outputs": [
        {
          "output_type": "display_data",
          "data": {
            "text/plain": [
              "\u001b[1mModel: \"sequential_2\"\u001b[0m\n"
            ],
            "text/html": [
              "<pre style=\"white-space:pre;overflow-x:auto;line-height:normal;font-family:Menlo,'DejaVu Sans Mono',consolas,'Courier New',monospace\"><span style=\"font-weight: bold\">Model: \"sequential_2\"</span>\n",
              "</pre>\n"
            ]
          },
          "metadata": {}
        },
        {
          "output_type": "display_data",
          "data": {
            "text/plain": [
              "┏━━━━━━━━━━━━━━━━━━━━━━━━━━━━━━━━━━━━━━┳━━━━━━━━━━━━━━━━━━━━━━━━━━━━━┳━━━━━━━━━━━━━━━━━┓\n",
              "┃\u001b[1m \u001b[0m\u001b[1mLayer (type)                        \u001b[0m\u001b[1m \u001b[0m┃\u001b[1m \u001b[0m\u001b[1mOutput Shape               \u001b[0m\u001b[1m \u001b[0m┃\u001b[1m \u001b[0m\u001b[1m        Param #\u001b[0m\u001b[1m \u001b[0m┃\n",
              "┡━━━━━━━━━━━━━━━━━━━━━━━━━━━━━━━━━━━━━━╇━━━━━━━━━━━━━━━━━━━━━━━━━━━━━╇━━━━━━━━━━━━━━━━━┩\n",
              "│ embedding_2 (\u001b[38;5;33mEmbedding\u001b[0m)              │ ?                           │     \u001b[38;5;34m0\u001b[0m (unbuilt) │\n",
              "├──────────────────────────────────────┼─────────────────────────────┼─────────────────┤\n",
              "│ flatten (\u001b[38;5;33mFlatten\u001b[0m)                    │ ?                           │     \u001b[38;5;34m0\u001b[0m (unbuilt) │\n",
              "├──────────────────────────────────────┼─────────────────────────────┼─────────────────┤\n",
              "│ dense (\u001b[38;5;33mDense\u001b[0m)                        │ ?                           │     \u001b[38;5;34m0\u001b[0m (unbuilt) │\n",
              "├──────────────────────────────────────┼─────────────────────────────┼─────────────────┤\n",
              "│ dropout (\u001b[38;5;33mDropout\u001b[0m)                    │ ?                           │               \u001b[38;5;34m0\u001b[0m │\n",
              "├──────────────────────────────────────┼─────────────────────────────┼─────────────────┤\n",
              "│ dense_1 (\u001b[38;5;33mDense\u001b[0m)                      │ ?                           │     \u001b[38;5;34m0\u001b[0m (unbuilt) │\n",
              "└──────────────────────────────────────┴─────────────────────────────┴─────────────────┘\n"
            ],
            "text/html": [
              "<pre style=\"white-space:pre;overflow-x:auto;line-height:normal;font-family:Menlo,'DejaVu Sans Mono',consolas,'Courier New',monospace\">┏━━━━━━━━━━━━━━━━━━━━━━━━━━━━━━━━━━━━━━┳━━━━━━━━━━━━━━━━━━━━━━━━━━━━━┳━━━━━━━━━━━━━━━━━┓\n",
              "┃<span style=\"font-weight: bold\"> Layer (type)                         </span>┃<span style=\"font-weight: bold\"> Output Shape                </span>┃<span style=\"font-weight: bold\">         Param # </span>┃\n",
              "┡━━━━━━━━━━━━━━━━━━━━━━━━━━━━━━━━━━━━━━╇━━━━━━━━━━━━━━━━━━━━━━━━━━━━━╇━━━━━━━━━━━━━━━━━┩\n",
              "│ embedding_2 (<span style=\"color: #0087ff; text-decoration-color: #0087ff\">Embedding</span>)              │ ?                           │     <span style=\"color: #00af00; text-decoration-color: #00af00\">0</span> (unbuilt) │\n",
              "├──────────────────────────────────────┼─────────────────────────────┼─────────────────┤\n",
              "│ flatten (<span style=\"color: #0087ff; text-decoration-color: #0087ff\">Flatten</span>)                    │ ?                           │     <span style=\"color: #00af00; text-decoration-color: #00af00\">0</span> (unbuilt) │\n",
              "├──────────────────────────────────────┼─────────────────────────────┼─────────────────┤\n",
              "│ dense (<span style=\"color: #0087ff; text-decoration-color: #0087ff\">Dense</span>)                        │ ?                           │     <span style=\"color: #00af00; text-decoration-color: #00af00\">0</span> (unbuilt) │\n",
              "├──────────────────────────────────────┼─────────────────────────────┼─────────────────┤\n",
              "│ dropout (<span style=\"color: #0087ff; text-decoration-color: #0087ff\">Dropout</span>)                    │ ?                           │               <span style=\"color: #00af00; text-decoration-color: #00af00\">0</span> │\n",
              "├──────────────────────────────────────┼─────────────────────────────┼─────────────────┤\n",
              "│ dense_1 (<span style=\"color: #0087ff; text-decoration-color: #0087ff\">Dense</span>)                      │ ?                           │     <span style=\"color: #00af00; text-decoration-color: #00af00\">0</span> (unbuilt) │\n",
              "└──────────────────────────────────────┴─────────────────────────────┴─────────────────┘\n",
              "</pre>\n"
            ]
          },
          "metadata": {}
        },
        {
          "output_type": "display_data",
          "data": {
            "text/plain": [
              "\u001b[1m Total params: \u001b[0m\u001b[38;5;34m0\u001b[0m (0.00 B)\n"
            ],
            "text/html": [
              "<pre style=\"white-space:pre;overflow-x:auto;line-height:normal;font-family:Menlo,'DejaVu Sans Mono',consolas,'Courier New',monospace\"><span style=\"font-weight: bold\"> Total params: </span><span style=\"color: #00af00; text-decoration-color: #00af00\">0</span> (0.00 B)\n",
              "</pre>\n"
            ]
          },
          "metadata": {}
        },
        {
          "output_type": "display_data",
          "data": {
            "text/plain": [
              "\u001b[1m Trainable params: \u001b[0m\u001b[38;5;34m0\u001b[0m (0.00 B)\n"
            ],
            "text/html": [
              "<pre style=\"white-space:pre;overflow-x:auto;line-height:normal;font-family:Menlo,'DejaVu Sans Mono',consolas,'Courier New',monospace\"><span style=\"font-weight: bold\"> Trainable params: </span><span style=\"color: #00af00; text-decoration-color: #00af00\">0</span> (0.00 B)\n",
              "</pre>\n"
            ]
          },
          "metadata": {}
        },
        {
          "output_type": "display_data",
          "data": {
            "text/plain": [
              "\u001b[1m Non-trainable params: \u001b[0m\u001b[38;5;34m0\u001b[0m (0.00 B)\n"
            ],
            "text/html": [
              "<pre style=\"white-space:pre;overflow-x:auto;line-height:normal;font-family:Menlo,'DejaVu Sans Mono',consolas,'Courier New',monospace\"><span style=\"font-weight: bold\"> Non-trainable params: </span><span style=\"color: #00af00; text-decoration-color: #00af00\">0</span> (0.00 B)\n",
              "</pre>\n"
            ]
          },
          "metadata": {}
        }
      ]
    },
    {
      "cell_type": "code",
      "source": [
        "history = model.fit(\n",
        "    x_train, y_train,\n",
        "    epochs=10,\n",
        "    batch_size=32,\n",
        "    verbose=1\n",
        ")"
      ],
      "metadata": {
        "colab": {
          "base_uri": "https://localhost:8080/"
        },
        "id": "76fQyycQGkyB",
        "outputId": "1f880818-41e4-48dd-cad3-d6b774cdbf39"
      },
      "execution_count": 47,
      "outputs": [
        {
          "output_type": "stream",
          "name": "stdout",
          "text": [
            "Epoch 1/10\n",
            "\u001b[1m52/52\u001b[0m \u001b[32m━━━━━━━━━━━━━━━━━━━━\u001b[0m\u001b[37m\u001b[0m \u001b[1m1s\u001b[0m 19ms/step - accuracy: 0.9853 - loss: 0.0248\n",
            "Epoch 2/10\n",
            "\u001b[1m52/52\u001b[0m \u001b[32m━━━━━━━━━━━━━━━━━━━━\u001b[0m\u001b[37m\u001b[0m \u001b[1m1s\u001b[0m 23ms/step - accuracy: 0.9805 - loss: 0.0263\n",
            "Epoch 3/10\n",
            "\u001b[1m52/52\u001b[0m \u001b[32m━━━━━━━━━━━━━━━━━━━━\u001b[0m\u001b[37m\u001b[0m \u001b[1m1s\u001b[0m 12ms/step - accuracy: 0.9848 - loss: 0.0274\n",
            "Epoch 4/10\n",
            "\u001b[1m52/52\u001b[0m \u001b[32m━━━━━━━━━━━━━━━━━━━━\u001b[0m\u001b[37m\u001b[0m \u001b[1m1s\u001b[0m 8ms/step - accuracy: 0.9881 - loss: 0.0235\n",
            "Epoch 5/10\n",
            "\u001b[1m52/52\u001b[0m \u001b[32m━━━━━━━━━━━━━━━━━━━━\u001b[0m\u001b[37m\u001b[0m \u001b[1m0s\u001b[0m 6ms/step - accuracy: 0.9870 - loss: 0.0204\n",
            "Epoch 6/10\n",
            "\u001b[1m52/52\u001b[0m \u001b[32m━━━━━━━━━━━━━━━━━━━━\u001b[0m\u001b[37m\u001b[0m \u001b[1m1s\u001b[0m 5ms/step - accuracy: 0.9874 - loss: 0.0205\n",
            "Epoch 7/10\n",
            "\u001b[1m52/52\u001b[0m \u001b[32m━━━━━━━━━━━━━━━━━━━━\u001b[0m\u001b[37m\u001b[0m \u001b[1m0s\u001b[0m 6ms/step - accuracy: 0.9896 - loss: 0.0223\n",
            "Epoch 8/10\n",
            "\u001b[1m52/52\u001b[0m \u001b[32m━━━━━━━━━━━━━━━━━━━━\u001b[0m\u001b[37m\u001b[0m \u001b[1m1s\u001b[0m 5ms/step - accuracy: 0.9903 - loss: 0.0215\n",
            "Epoch 9/10\n",
            "\u001b[1m52/52\u001b[0m \u001b[32m━━━━━━━━━━━━━━━━━━━━\u001b[0m\u001b[37m\u001b[0m \u001b[1m1s\u001b[0m 5ms/step - accuracy: 0.9884 - loss: 0.0215\n",
            "Epoch 10/10\n",
            "\u001b[1m52/52\u001b[0m \u001b[32m━━━━━━━━━━━━━━━━━━━━\u001b[0m\u001b[37m\u001b[0m \u001b[1m0s\u001b[0m 5ms/step - accuracy: 0.9840 - loss: 0.0290\n"
          ]
        }
      ]
    },
    {
      "cell_type": "code",
      "source": [
        "results = history.history"
      ],
      "metadata": {
        "id": "wFLpMRSrHBCW"
      },
      "execution_count": 52,
      "outputs": []
    },
    {
      "cell_type": "code",
      "source": [
        "results_df = pd.DataFrame(results)\n",
        "results_df"
      ],
      "metadata": {
        "colab": {
          "base_uri": "https://localhost:8080/",
          "height": 363
        },
        "id": "kJudYTbrHYdc",
        "outputId": "b5fdea09-03f4-42fd-fdb0-fd10d4d3e571"
      },
      "execution_count": 53,
      "outputs": [
        {
          "output_type": "execute_result",
          "data": {
            "text/plain": [
              "   accuracy      loss\n",
              "0  0.986553  0.028239\n",
              "1  0.987164  0.021467\n",
              "2  0.986553  0.024783\n",
              "3  0.987164  0.023021\n",
              "4  0.983496  0.023632\n",
              "5  0.986553  0.024086\n",
              "6  0.987164  0.024457\n",
              "7  0.987164  0.023409\n",
              "8  0.987775  0.026688\n",
              "9  0.985330  0.024575"
            ],
            "text/html": [
              "\n",
              "  <div id=\"df-d0c0272a-363f-4ef1-97af-4e1a344875b9\" class=\"colab-df-container\">\n",
              "    <div>\n",
              "<style scoped>\n",
              "    .dataframe tbody tr th:only-of-type {\n",
              "        vertical-align: middle;\n",
              "    }\n",
              "\n",
              "    .dataframe tbody tr th {\n",
              "        vertical-align: top;\n",
              "    }\n",
              "\n",
              "    .dataframe thead th {\n",
              "        text-align: right;\n",
              "    }\n",
              "</style>\n",
              "<table border=\"1\" class=\"dataframe\">\n",
              "  <thead>\n",
              "    <tr style=\"text-align: right;\">\n",
              "      <th></th>\n",
              "      <th>accuracy</th>\n",
              "      <th>loss</th>\n",
              "    </tr>\n",
              "  </thead>\n",
              "  <tbody>\n",
              "    <tr>\n",
              "      <th>0</th>\n",
              "      <td>0.986553</td>\n",
              "      <td>0.028239</td>\n",
              "    </tr>\n",
              "    <tr>\n",
              "      <th>1</th>\n",
              "      <td>0.987164</td>\n",
              "      <td>0.021467</td>\n",
              "    </tr>\n",
              "    <tr>\n",
              "      <th>2</th>\n",
              "      <td>0.986553</td>\n",
              "      <td>0.024783</td>\n",
              "    </tr>\n",
              "    <tr>\n",
              "      <th>3</th>\n",
              "      <td>0.987164</td>\n",
              "      <td>0.023021</td>\n",
              "    </tr>\n",
              "    <tr>\n",
              "      <th>4</th>\n",
              "      <td>0.983496</td>\n",
              "      <td>0.023632</td>\n",
              "    </tr>\n",
              "    <tr>\n",
              "      <th>5</th>\n",
              "      <td>0.986553</td>\n",
              "      <td>0.024086</td>\n",
              "    </tr>\n",
              "    <tr>\n",
              "      <th>6</th>\n",
              "      <td>0.987164</td>\n",
              "      <td>0.024457</td>\n",
              "    </tr>\n",
              "    <tr>\n",
              "      <th>7</th>\n",
              "      <td>0.987164</td>\n",
              "      <td>0.023409</td>\n",
              "    </tr>\n",
              "    <tr>\n",
              "      <th>8</th>\n",
              "      <td>0.987775</td>\n",
              "      <td>0.026688</td>\n",
              "    </tr>\n",
              "    <tr>\n",
              "      <th>9</th>\n",
              "      <td>0.985330</td>\n",
              "      <td>0.024575</td>\n",
              "    </tr>\n",
              "  </tbody>\n",
              "</table>\n",
              "</div>\n",
              "    <div class=\"colab-df-buttons\">\n",
              "\n",
              "  <div class=\"colab-df-container\">\n",
              "    <button class=\"colab-df-convert\" onclick=\"convertToInteractive('df-d0c0272a-363f-4ef1-97af-4e1a344875b9')\"\n",
              "            title=\"Convert this dataframe to an interactive table.\"\n",
              "            style=\"display:none;\">\n",
              "\n",
              "  <svg xmlns=\"http://www.w3.org/2000/svg\" height=\"24px\" viewBox=\"0 -960 960 960\">\n",
              "    <path d=\"M120-120v-720h720v720H120Zm60-500h600v-160H180v160Zm220 220h160v-160H400v160Zm0 220h160v-160H400v160ZM180-400h160v-160H180v160Zm440 0h160v-160H620v160ZM180-180h160v-160H180v160Zm440 0h160v-160H620v160Z\"/>\n",
              "  </svg>\n",
              "    </button>\n",
              "\n",
              "  <style>\n",
              "    .colab-df-container {\n",
              "      display:flex;\n",
              "      gap: 12px;\n",
              "    }\n",
              "\n",
              "    .colab-df-convert {\n",
              "      background-color: #E8F0FE;\n",
              "      border: none;\n",
              "      border-radius: 50%;\n",
              "      cursor: pointer;\n",
              "      display: none;\n",
              "      fill: #1967D2;\n",
              "      height: 32px;\n",
              "      padding: 0 0 0 0;\n",
              "      width: 32px;\n",
              "    }\n",
              "\n",
              "    .colab-df-convert:hover {\n",
              "      background-color: #E2EBFA;\n",
              "      box-shadow: 0px 1px 2px rgba(60, 64, 67, 0.3), 0px 1px 3px 1px rgba(60, 64, 67, 0.15);\n",
              "      fill: #174EA6;\n",
              "    }\n",
              "\n",
              "    .colab-df-buttons div {\n",
              "      margin-bottom: 4px;\n",
              "    }\n",
              "\n",
              "    [theme=dark] .colab-df-convert {\n",
              "      background-color: #3B4455;\n",
              "      fill: #D2E3FC;\n",
              "    }\n",
              "\n",
              "    [theme=dark] .colab-df-convert:hover {\n",
              "      background-color: #434B5C;\n",
              "      box-shadow: 0px 1px 3px 1px rgba(0, 0, 0, 0.15);\n",
              "      filter: drop-shadow(0px 1px 2px rgba(0, 0, 0, 0.3));\n",
              "      fill: #FFFFFF;\n",
              "    }\n",
              "  </style>\n",
              "\n",
              "    <script>\n",
              "      const buttonEl =\n",
              "        document.querySelector('#df-d0c0272a-363f-4ef1-97af-4e1a344875b9 button.colab-df-convert');\n",
              "      buttonEl.style.display =\n",
              "        google.colab.kernel.accessAllowed ? 'block' : 'none';\n",
              "\n",
              "      async function convertToInteractive(key) {\n",
              "        const element = document.querySelector('#df-d0c0272a-363f-4ef1-97af-4e1a344875b9');\n",
              "        const dataTable =\n",
              "          await google.colab.kernel.invokeFunction('convertToInteractive',\n",
              "                                                    [key], {});\n",
              "        if (!dataTable) return;\n",
              "\n",
              "        const docLinkHtml = 'Like what you see? Visit the ' +\n",
              "          '<a target=\"_blank\" href=https://colab.research.google.com/notebooks/data_table.ipynb>data table notebook</a>'\n",
              "          + ' to learn more about interactive tables.';\n",
              "        element.innerHTML = '';\n",
              "        dataTable['output_type'] = 'display_data';\n",
              "        await google.colab.output.renderOutput(dataTable, element);\n",
              "        const docLink = document.createElement('div');\n",
              "        docLink.innerHTML = docLinkHtml;\n",
              "        element.appendChild(docLink);\n",
              "      }\n",
              "    </script>\n",
              "  </div>\n",
              "\n",
              "\n",
              "<div id=\"df-5c303091-10c3-4eaa-8ce4-aaa03595eaee\">\n",
              "  <button class=\"colab-df-quickchart\" onclick=\"quickchart('df-5c303091-10c3-4eaa-8ce4-aaa03595eaee')\"\n",
              "            title=\"Suggest charts\"\n",
              "            style=\"display:none;\">\n",
              "\n",
              "<svg xmlns=\"http://www.w3.org/2000/svg\" height=\"24px\"viewBox=\"0 0 24 24\"\n",
              "     width=\"24px\">\n",
              "    <g>\n",
              "        <path d=\"M19 3H5c-1.1 0-2 .9-2 2v14c0 1.1.9 2 2 2h14c1.1 0 2-.9 2-2V5c0-1.1-.9-2-2-2zM9 17H7v-7h2v7zm4 0h-2V7h2v10zm4 0h-2v-4h2v4z\"/>\n",
              "    </g>\n",
              "</svg>\n",
              "  </button>\n",
              "\n",
              "<style>\n",
              "  .colab-df-quickchart {\n",
              "      --bg-color: #E8F0FE;\n",
              "      --fill-color: #1967D2;\n",
              "      --hover-bg-color: #E2EBFA;\n",
              "      --hover-fill-color: #174EA6;\n",
              "      --disabled-fill-color: #AAA;\n",
              "      --disabled-bg-color: #DDD;\n",
              "  }\n",
              "\n",
              "  [theme=dark] .colab-df-quickchart {\n",
              "      --bg-color: #3B4455;\n",
              "      --fill-color: #D2E3FC;\n",
              "      --hover-bg-color: #434B5C;\n",
              "      --hover-fill-color: #FFFFFF;\n",
              "      --disabled-bg-color: #3B4455;\n",
              "      --disabled-fill-color: #666;\n",
              "  }\n",
              "\n",
              "  .colab-df-quickchart {\n",
              "    background-color: var(--bg-color);\n",
              "    border: none;\n",
              "    border-radius: 50%;\n",
              "    cursor: pointer;\n",
              "    display: none;\n",
              "    fill: var(--fill-color);\n",
              "    height: 32px;\n",
              "    padding: 0;\n",
              "    width: 32px;\n",
              "  }\n",
              "\n",
              "  .colab-df-quickchart:hover {\n",
              "    background-color: var(--hover-bg-color);\n",
              "    box-shadow: 0 1px 2px rgba(60, 64, 67, 0.3), 0 1px 3px 1px rgba(60, 64, 67, 0.15);\n",
              "    fill: var(--button-hover-fill-color);\n",
              "  }\n",
              "\n",
              "  .colab-df-quickchart-complete:disabled,\n",
              "  .colab-df-quickchart-complete:disabled:hover {\n",
              "    background-color: var(--disabled-bg-color);\n",
              "    fill: var(--disabled-fill-color);\n",
              "    box-shadow: none;\n",
              "  }\n",
              "\n",
              "  .colab-df-spinner {\n",
              "    border: 2px solid var(--fill-color);\n",
              "    border-color: transparent;\n",
              "    border-bottom-color: var(--fill-color);\n",
              "    animation:\n",
              "      spin 1s steps(1) infinite;\n",
              "  }\n",
              "\n",
              "  @keyframes spin {\n",
              "    0% {\n",
              "      border-color: transparent;\n",
              "      border-bottom-color: var(--fill-color);\n",
              "      border-left-color: var(--fill-color);\n",
              "    }\n",
              "    20% {\n",
              "      border-color: transparent;\n",
              "      border-left-color: var(--fill-color);\n",
              "      border-top-color: var(--fill-color);\n",
              "    }\n",
              "    30% {\n",
              "      border-color: transparent;\n",
              "      border-left-color: var(--fill-color);\n",
              "      border-top-color: var(--fill-color);\n",
              "      border-right-color: var(--fill-color);\n",
              "    }\n",
              "    40% {\n",
              "      border-color: transparent;\n",
              "      border-right-color: var(--fill-color);\n",
              "      border-top-color: var(--fill-color);\n",
              "    }\n",
              "    60% {\n",
              "      border-color: transparent;\n",
              "      border-right-color: var(--fill-color);\n",
              "    }\n",
              "    80% {\n",
              "      border-color: transparent;\n",
              "      border-right-color: var(--fill-color);\n",
              "      border-bottom-color: var(--fill-color);\n",
              "    }\n",
              "    90% {\n",
              "      border-color: transparent;\n",
              "      border-bottom-color: var(--fill-color);\n",
              "    }\n",
              "  }\n",
              "</style>\n",
              "\n",
              "  <script>\n",
              "    async function quickchart(key) {\n",
              "      const quickchartButtonEl =\n",
              "        document.querySelector('#' + key + ' button');\n",
              "      quickchartButtonEl.disabled = true;  // To prevent multiple clicks.\n",
              "      quickchartButtonEl.classList.add('colab-df-spinner');\n",
              "      try {\n",
              "        const charts = await google.colab.kernel.invokeFunction(\n",
              "            'suggestCharts', [key], {});\n",
              "      } catch (error) {\n",
              "        console.error('Error during call to suggestCharts:', error);\n",
              "      }\n",
              "      quickchartButtonEl.classList.remove('colab-df-spinner');\n",
              "      quickchartButtonEl.classList.add('colab-df-quickchart-complete');\n",
              "    }\n",
              "    (() => {\n",
              "      let quickchartButtonEl =\n",
              "        document.querySelector('#df-5c303091-10c3-4eaa-8ce4-aaa03595eaee button');\n",
              "      quickchartButtonEl.style.display =\n",
              "        google.colab.kernel.accessAllowed ? 'block' : 'none';\n",
              "    })();\n",
              "  </script>\n",
              "</div>\n",
              "\n",
              "  <div id=\"id_b8576dc1-0904-4565-8f24-828fb7d8b0e5\">\n",
              "    <style>\n",
              "      .colab-df-generate {\n",
              "        background-color: #E8F0FE;\n",
              "        border: none;\n",
              "        border-radius: 50%;\n",
              "        cursor: pointer;\n",
              "        display: none;\n",
              "        fill: #1967D2;\n",
              "        height: 32px;\n",
              "        padding: 0 0 0 0;\n",
              "        width: 32px;\n",
              "      }\n",
              "\n",
              "      .colab-df-generate:hover {\n",
              "        background-color: #E2EBFA;\n",
              "        box-shadow: 0px 1px 2px rgba(60, 64, 67, 0.3), 0px 1px 3px 1px rgba(60, 64, 67, 0.15);\n",
              "        fill: #174EA6;\n",
              "      }\n",
              "\n",
              "      [theme=dark] .colab-df-generate {\n",
              "        background-color: #3B4455;\n",
              "        fill: #D2E3FC;\n",
              "      }\n",
              "\n",
              "      [theme=dark] .colab-df-generate:hover {\n",
              "        background-color: #434B5C;\n",
              "        box-shadow: 0px 1px 3px 1px rgba(0, 0, 0, 0.15);\n",
              "        filter: drop-shadow(0px 1px 2px rgba(0, 0, 0, 0.3));\n",
              "        fill: #FFFFFF;\n",
              "      }\n",
              "    </style>\n",
              "    <button class=\"colab-df-generate\" onclick=\"generateWithVariable('results_df')\"\n",
              "            title=\"Generate code using this dataframe.\"\n",
              "            style=\"display:none;\">\n",
              "\n",
              "  <svg xmlns=\"http://www.w3.org/2000/svg\" height=\"24px\"viewBox=\"0 0 24 24\"\n",
              "       width=\"24px\">\n",
              "    <path d=\"M7,19H8.4L18.45,9,17,7.55,7,17.6ZM5,21V16.75L18.45,3.32a2,2,0,0,1,2.83,0l1.4,1.43a1.91,1.91,0,0,1,.58,1.4,1.91,1.91,0,0,1-.58,1.4L9.25,21ZM18.45,9,17,7.55Zm-12,3A5.31,5.31,0,0,0,4.9,8.1,5.31,5.31,0,0,0,1,6.5,5.31,5.31,0,0,0,4.9,4.9,5.31,5.31,0,0,0,6.5,1,5.31,5.31,0,0,0,8.1,4.9,5.31,5.31,0,0,0,12,6.5,5.46,5.46,0,0,0,6.5,12Z\"/>\n",
              "  </svg>\n",
              "    </button>\n",
              "    <script>\n",
              "      (() => {\n",
              "      const buttonEl =\n",
              "        document.querySelector('#id_b8576dc1-0904-4565-8f24-828fb7d8b0e5 button.colab-df-generate');\n",
              "      buttonEl.style.display =\n",
              "        google.colab.kernel.accessAllowed ? 'block' : 'none';\n",
              "\n",
              "      buttonEl.onclick = () => {\n",
              "        google.colab.notebook.generateWithVariable('results_df');\n",
              "      }\n",
              "      })();\n",
              "    </script>\n",
              "  </div>\n",
              "\n",
              "    </div>\n",
              "  </div>\n"
            ],
            "application/vnd.google.colaboratory.intrinsic+json": {
              "type": "dataframe",
              "variable_name": "results_df",
              "summary": "{\n  \"name\": \"results_df\",\n  \"rows\": 10,\n  \"fields\": [\n    {\n      \"column\": \"accuracy\",\n      \"properties\": {\n        \"dtype\": \"number\",\n        \"std\": 0.001237700314592438,\n        \"min\": 0.9834963083267212,\n        \"max\": 0.9877750873565674,\n        \"num_unique_values\": 5,\n        \"samples\": [\n          0.9871638417243958,\n          0.9853300452232361,\n          0.9834963083267212\n        ],\n        \"semantic_type\": \"\",\n        \"description\": \"\"\n      }\n    },\n    {\n      \"column\": \"loss\",\n      \"properties\": {\n        \"dtype\": \"number\",\n        \"std\": 0.0018949101378881682,\n        \"min\": 0.021466555073857307,\n        \"max\": 0.028238842263817787,\n        \"num_unique_values\": 10,\n        \"samples\": [\n          0.026687683537602425,\n          0.021466555073857307,\n          0.024085812270641327\n        ],\n        \"semantic_type\": \"\",\n        \"description\": \"\"\n      }\n    }\n  ]\n}"
            }
          },
          "metadata": {},
          "execution_count": 53
        }
      ]
    },
    {
      "cell_type": "code",
      "source": [
        "epochs = [i for i in range(1, 11)]\n",
        "loss = results_df['loss']\n",
        "plt.plot(epochs, loss)\n",
        "plt.title('Loss Curve')\n",
        "plt.xlabel('Epochs')\n",
        "plt.ylabel('Loss')\n",
        "plt.show()"
      ],
      "metadata": {
        "colab": {
          "base_uri": "https://localhost:8080/",
          "height": 472
        },
        "id": "Y21eHB6HHb_S",
        "outputId": "30b9dcdb-572c-4076-bf07-0c155ee9bf85"
      },
      "execution_count": 55,
      "outputs": [
        {
          "output_type": "display_data",
          "data": {
            "text/plain": [
              "<Figure size 640x480 with 1 Axes>"
            ],
            "image/png": "[encoded data removed]"
          },
          "metadata": {}
        }
      ]
    },
    {
      "cell_type": "code",
      "source": [
        "accuracy = results_df['accuracy']\n",
        "plt.plot(epochs, accuracy)\n",
        "plt.title('Accuracy Curve')\n",
        "plt.xlabel('Epochs')\n",
        "plt.ylabel('Loss')\n",
        "plt.show()"
      ],
      "metadata": {
        "colab": {
          "base_uri": "https://localhost:8080/",
          "height": 472
        },
        "id": "eNGVAdhaH4Ac",
        "outputId": "4d6706c5-abab-4976-ed47-efc70926c795"
      },
      "execution_count": 57,
      "outputs": [
        {
          "output_type": "display_data",
          "data": {
            "text/plain": [
              "<Figure size 640x480 with 1 Axes>"
            ],
            "image/png": "[encoded data removed]"
          },
          "metadata": {}
        }
      ]
    },
    {
      "cell_type": "code",
      "source": [
        "y_pred = model.predict(x_test)"
      ],
      "metadata": {
        "colab": {
          "base_uri": "https://localhost:8080/"
        },
        "id": "rgaDBDQIH_bx",
        "outputId": "5994c38b-0d09-4e24-f119-f8175c75d580"
      },
      "execution_count": 58,
      "outputs": [
        {
          "output_type": "stream",
          "name": "stdout",
          "text": [
            "\u001b[1m13/13\u001b[0m \u001b[32m━━━━━━━━━━━━━━━━━━━━\u001b[0m\u001b[37m\u001b[0m \u001b[1m0s\u001b[0m 9ms/step\n"
          ]
        }
      ]
    },
    {
      "cell_type": "code",
      "source": [
        "model.save('fake_news_detector.h5')"
      ],
      "metadata": {
        "colab": {
          "base_uri": "https://localhost:8080/"
        },
        "id": "u3zfBKstIGVE",
        "outputId": "1d47511e-7d2f-444b-b771-04f74238d28a"
      },
      "execution_count": 61,
      "outputs": [
        {
          "output_type": "stream",
          "name": "stderr",
          "text": [
            "WARNING:absl:You are saving your model as an HDF5 file via `model.save()` or `keras.saving.save_model(model)`. This file format is considered legacy. We recommend using instead the native Keras format, e.g. `model.save('my_model.keras')` or `keras.saving.save_model(model, 'my_model.keras')`. \n"
          ]
        }
      ]
    },
    {
      "cell_type": "code",
      "source": [
        "model.save('fake_news_detector.keras')"
      ],
      "metadata": {
        "id": "96n0rFvmIKQ-"
      },
      "execution_count": 62,
      "outputs": []
    },
    {
      "cell_type": "code",
      "source": [
        "import joblib\n",
        "joblib.dump(token, 'token.joblib')"
      ],
      "metadata": {
        "colab": {
          "base_uri": "https://localhost:8080/"
        },
        "id": "TUMwNeYyIrUF",
        "outputId": "52f81d22-2052-4524-9b3d-902c49b89f8a"
      },
      "execution_count": 63,
      "outputs": [
        {
          "output_type": "execute_result",
          "data": {
            "text/plain": [
              "['token.joblib']"
            ]
          },
          "metadata": {},
          "execution_count": 63
        }
      ]
    }
  ]
}